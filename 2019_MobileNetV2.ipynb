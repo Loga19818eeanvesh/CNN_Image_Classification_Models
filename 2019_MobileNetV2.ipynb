{
  "nbformat": 4,
  "nbformat_minor": 0,
  "metadata": {
    "colab": {
      "name": "2019_MobileNetV2.ipynb",
      "provenance": [],
      "collapsed_sections": [],
      "authorship_tag": "ABX9TyP+FWh5MQcZx7w/CMQRQYXu",
      "include_colab_link": true
    },
    "kernelspec": {
      "name": "python3",
      "display_name": "Python 3"
    },
    "language_info": {
      "name": "python"
    }
  },
  "cells": [
    {
      "cell_type": "markdown",
      "metadata": {
        "id": "view-in-github",
        "colab_type": "text"
      },
      "source": [
        "<a href=\"https://colab.research.google.com/github/Loga19818eeanvesh/CNN_Models/blob/main/2019_MobileNetV2.ipynb\" target=\"_parent\"><img src=\"https://colab.research.google.com/assets/colab-badge.svg\" alt=\"Open In Colab\"/></a>"
      ]
    },
    {
      "cell_type": "code",
      "source": [
        "!pip install tensorflow==2.2.0"
      ],
      "metadata": {
        "id": "XINrZhB4e3lj"
      },
      "execution_count": null,
      "outputs": []
    },
    {
      "cell_type": "code",
      "source": [
        "import tensorflow as tf \n",
        "print(tf.__version__)"
      ],
      "metadata": {
        "colab": {
          "base_uri": "https://localhost:8080/"
        },
        "id": "4IkIE6b7e5Ix",
        "outputId": "ae33daa7-1281-4fea-f196-e399801043a0"
      },
      "execution_count": null,
      "outputs": [
        {
          "output_type": "stream",
          "name": "stdout",
          "text": [
            "2.2.0\n"
          ]
        }
      ]
    },
    {
      "cell_type": "code",
      "source": [
        "from tensorflow.keras import Model\n",
        "from tensorflow.keras.layers import DepthwiseConv2D,Conv2D,BatchNormalization,GlobalAveragePooling2D,Flatten,Add,InputLayer,ReLU\n",
        "from tensorflow.keras.activations import relu,softmax\n",
        "from tensorflow.nn import relu6,conv2d,depthwise_conv2d"
      ],
      "metadata": {
        "id": "j4nmAt7Me5h0"
      },
      "execution_count": null,
      "outputs": []
    },
    {
      "cell_type": "code",
      "source": [
        "class DottleneckDepthSeparableConvolution(Model):\n",
        "  def __init__(self,t,c,f):\n",
        "    super().__init__()\n",
        "    self.expansion = Conv2D(filters=(t*c),kernel_size=1)\n",
        "    self.depthwise_conv = DepthwiseConv2D(kernel_size=3,padding='same')\n",
        "    self.projection = Conv2D(filters=f,kernel_size=1)\n",
        "    self.relu_activation = ReLU()\n",
        "    self.add = Add()\n",
        "\n",
        "  def call(self,inputs):\n",
        "    x = self.expansion(inputs)\n",
        "    x = self.relu_activation(x)\n",
        "    x = self.depthwise_conv(x)\n",
        "    x = self.relu_activation(x)\n",
        "    x = self.projection(x)\n",
        "    output = x\n",
        "    if(x.shape==inputs.shape):\n",
        "      output = self.add([x,inputs])\n",
        "      \n",
        "    return output"
      ],
      "metadata": {
        "id": "VAJkSk4Oe6Bi"
      },
      "execution_count": 34,
      "outputs": []
    },
    {
      "cell_type": "code",
      "source": [
        "class DottleneckDepthSeparableConvolutionStride2Block(Model):\n",
        "  def __init__(self,t,c,f):\n",
        "    super().__init__()\n",
        "    self.channels = t*c\n",
        "    self.expansion = Conv2D(filters=(t*c),kernel_size=1)\n",
        "    self.depthwise_conv = depthwise_conv2d\n",
        "    self.projection = Conv2D(filters=f,kernel_size=1)\n",
        "    self.relu_activation = ReLU()\n",
        "    f_init = tf.random_normal_initializer()\n",
        "    self.filter_init = tf.Variable(initial_value=f_init(shape=(3,3,(t*c),1) , dtype=\"float32\") , trainable=True)\n",
        "    self.bias = tf.nn.bias_add\n",
        "    self.b = tf.Variable(tf.zeros(shape = [(t*c),]), dtype=\"float32\")\n",
        "\n",
        "  def call(self,inputs):\n",
        "    x = self.expansion(inputs)\n",
        "    x = self.relu_activation(x)\n",
        "    x = self.depthwise_conv(x,filter=self.filter_init,strides = [1, 2, 2, 1],padding=[[0, 0], [1,0],[1,0], [0, 0]])\n",
        "    x = self.bias(x, self.b)\n",
        "    x = self.relu_activation(x)\n",
        "    x = self.projection(x)\n",
        "\n",
        "    return x"
      ],
      "metadata": {
        "id": "-eBRtc0xe6aD"
      },
      "execution_count": 33,
      "outputs": []
    },
    {
      "cell_type": "code",
      "source": [
        "class MobileNetBlock(Model):\n",
        "  def __init__(self,t,c,f,n):\n",
        "    super().__init__()\n",
        "    self.stride2 = DottleneckDepthSeparableConvolutionStride2Block(t=t,c=c,f=f)\n",
        "    self.nl = n-1\n",
        "    self.layers1 = {}\n",
        "    for i in range(n-1):\n",
        "      self.layers1[\"stride1\"+str(i)] = DottleneckDepthSeparableConvolution(t=t,c=c,f=f)\n",
        "\n",
        "  def call(self,inputs):\n",
        "    x = self.stride2(inputs)\n",
        "    for i in range(self.nl):\n",
        "      x = self.layers1[\"stride1\"+str(i)](x)\n",
        "    return x"
      ],
      "metadata": {
        "id": "3OnUhA2soESM"
      },
      "execution_count": 35,
      "outputs": []
    },
    {
      "cell_type": "code",
      "source": [
        "class MobileNetV2(Model):\n",
        "  def __init__(self,input_shape,noof_classes):\n",
        "    super().__init__()\n",
        "    self.input1 = InputLayer(input_shape=input_shape)\n",
        "    f_init = tf.random_normal_initializer()\n",
        "    self.filter_init = tf.Variable(initial_value=f_init(shape=(3,3,3,32) , dtype=\"float32\") , trainable=True)\n",
        "    self.bias = tf.nn.bias_add\n",
        "    self.relu_activation = ReLU()\n",
        "    self.b = tf.Variable(tf.zeros(shape = [32,]), dtype=\"float32\")\n",
        "    self.conv1 = conv2d\n",
        "    self.bottleneck1 = DottleneckDepthSeparableConvolution(t=1,c=32,f=16)\n",
        "    self.mobile_net_block1 = MobileNetBlock(t=6,c=16,f=24,n=2)\n",
        "    self.mobile_net_block2 = MobileNetBlock(t=6,c=24,f=32,n=3)\n",
        "    self.mobile_net_block3 = MobileNetBlock(t=6,c=32,f=64,n=4)\n",
        "    self.bottleneck2 = DottleneckDepthSeparableConvolution(t=6,c=64,f=96)\n",
        "    self.bottleneck3 = DottleneckDepthSeparableConvolution(t=6,c=64,f=96)\n",
        "    self.bottleneck4 = DottleneckDepthSeparableConvolution(t=6,c=64,f=96)\n",
        "    self.mobile_net_block5 = MobileNetBlock(t=6,c=96,f=160,n=3)\n",
        "    self.bottleneck5 = DottleneckDepthSeparableConvolution(t=6,c=160,f=320)\n",
        "    self.conv2 = Conv2D(kernel_size=1,filters=1280)\n",
        "    self.global_avg_pool = GlobalAveragePooling2D()\n",
        "    self.conv3 = Conv2D(kernel_size=1,filters=noof_classes)\n",
        "    self.flattten = Flatten()\n",
        "    self.classifier = softmax\n",
        "\n",
        "  def call(self,inputs):\n",
        "    x = self.input1(inputs)\n",
        "    x = self.conv1(inputs,filters=self.filter_init,strides = [1, 2, 2, 1],padding= [[0, 0], [1,0],[1,0], [0, 0]])\n",
        "    x = x = self.bias(x, self.b)\n",
        "    x = self.relu_activation(x)\n",
        "    x = self.bottleneck1(x)\n",
        "    x = self.mobile_net_block1(x)\n",
        "    x = self.mobile_net_block2(x)\n",
        "    x = self.mobile_net_block3(x)\n",
        "    x = self.bottleneck2(x)\n",
        "    x = self.bottleneck3(x)\n",
        "    x = self.bottleneck4(x)\n",
        "    x = self.mobile_net_block5(x)\n",
        "    x = self.bottleneck5(x)\n",
        "    x = self.conv2(x)\n",
        "    x = self.global_avg_pool(x)\n",
        "    x = self.conv3(x)\n",
        "    x = self.flattten(x)\n",
        "    x = self.classifier(x)\n",
        "\n",
        "    return x\n",
        "    "
      ],
      "metadata": {
        "id": "UqyKmQf3lgah"
      },
      "execution_count": 36,
      "outputs": []
    },
    {
      "cell_type": "code",
      "source": [
        "MobileNetV2_model = MobileNetV2(input_shape=(None,224,224,3),noof_classes=1000)"
      ],
      "metadata": {
        "id": "SXCfr4-3tG-s"
      },
      "execution_count": 39,
      "outputs": []
    },
    {
      "cell_type": "code",
      "source": [
        "MobileNetV2_model.build(input_shape=(None,224,224,3)) "
      ],
      "metadata": {
        "id": "26QARk1Gezhr"
      },
      "execution_count": null,
      "outputs": []
    },
    {
      "cell_type": "code",
      "source": [
        "MobileNetV2_model.summary()"
      ],
      "metadata": {
        "id": "_9LhSUh9ewyD"
      },
      "execution_count": null,
      "outputs": []
    }
  ]
}