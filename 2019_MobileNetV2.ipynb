{
  "nbformat": 4,
  "nbformat_minor": 0,
  "metadata": {
    "colab": {
      "name": "2019_MobileNetV2.ipynb",
      "provenance": [],
      "collapsed_sections": [],
      "authorship_tag": "ABX9TyPneFB4ya2yHuaWNHkRxxut",
      "include_colab_link": true
    },
    "kernelspec": {
      "name": "python3",
      "display_name": "Python 3"
    },
    "language_info": {
      "name": "python"
    }
  },
  "cells": [
    {
      "cell_type": "markdown",
      "metadata": {
        "id": "view-in-github",
        "colab_type": "text"
      },
      "source": [
        "<a href=\"https://colab.research.google.com/github/Loga19818eeanvesh/CNN_Models/blob/main/2019_MobileNetV2.ipynb\" target=\"_parent\"><img src=\"https://colab.research.google.com/assets/colab-badge.svg\" alt=\"Open In Colab\"/></a>"
      ]
    },
    {
      "cell_type": "code",
      "source": [
        "!pip install tensorflow --upgrade\n",
        "!pip install keras --upgrade"
      ],
      "metadata": {
        "colab": {
          "base_uri": "https://localhost:8080/",
          "height": 1000
        },
        "id": "ibbsEN45N4Z0",
        "outputId": "d989e043-1c48-4a9c-9577-abfab02eba97"
      },
      "execution_count": 20,
      "outputs": [
        {
          "output_type": "stream",
          "name": "stdout",
          "text": [
            "Requirement already satisfied: tensorflow in /usr/local/lib/python3.7/dist-packages (2.2.0)\n",
            "Collecting tensorflow\n",
            "  Downloading tensorflow-2.8.0-cp37-cp37m-manylinux2010_x86_64.whl (497.5 MB)\n",
            "\u001b[K     |████████████████████████████████| 497.5 MB 17 kB/s \n",
            "\u001b[?25hRequirement already satisfied: astunparse>=1.6.0 in /usr/local/lib/python3.7/dist-packages (from tensorflow) (1.6.3)\n",
            "Requirement already satisfied: protobuf>=3.9.2 in /usr/local/lib/python3.7/dist-packages (from tensorflow) (3.17.3)\n",
            "Requirement already satisfied: wrapt>=1.11.0 in /usr/local/lib/python3.7/dist-packages (from tensorflow) (1.13.3)\n",
            "Requirement already satisfied: typing-extensions>=3.6.6 in /usr/local/lib/python3.7/dist-packages (from tensorflow) (3.10.0.2)\n",
            "Requirement already satisfied: setuptools in /usr/local/lib/python3.7/dist-packages (from tensorflow) (57.4.0)\n",
            "Requirement already satisfied: google-pasta>=0.1.1 in /usr/local/lib/python3.7/dist-packages (from tensorflow) (0.2.0)\n",
            "Requirement already satisfied: termcolor>=1.1.0 in /usr/local/lib/python3.7/dist-packages (from tensorflow) (1.1.0)\n",
            "Requirement already satisfied: libclang>=9.0.1 in /usr/local/lib/python3.7/dist-packages (from tensorflow) (13.0.0)\n",
            "Requirement already satisfied: keras-preprocessing>=1.1.1 in /usr/local/lib/python3.7/dist-packages (from tensorflow) (1.1.2)\n",
            "Requirement already satisfied: tensorflow-io-gcs-filesystem>=0.23.1 in /usr/local/lib/python3.7/dist-packages (from tensorflow) (0.24.0)\n",
            "Requirement already satisfied: flatbuffers>=1.12 in /usr/local/lib/python3.7/dist-packages (from tensorflow) (2.0)\n",
            "Requirement already satisfied: gast>=0.2.1 in /usr/local/lib/python3.7/dist-packages (from tensorflow) (0.3.3)\n",
            "Collecting tensorboard<2.9,>=2.8\n",
            "  Downloading tensorboard-2.8.0-py3-none-any.whl (5.8 MB)\n",
            "\u001b[K     |████████████████████████████████| 5.8 MB 39.0 MB/s \n",
            "\u001b[?25hRequirement already satisfied: grpcio<2.0,>=1.24.3 in /usr/local/lib/python3.7/dist-packages (from tensorflow) (1.43.0)\n",
            "Collecting tf-estimator-nightly==2.8.0.dev2021122109\n",
            "  Downloading tf_estimator_nightly-2.8.0.dev2021122109-py2.py3-none-any.whl (462 kB)\n",
            "\u001b[K     |████████████████████████████████| 462 kB 46.7 MB/s \n",
            "\u001b[?25hRequirement already satisfied: six>=1.12.0 in /usr/local/lib/python3.7/dist-packages (from tensorflow) (1.15.0)\n",
            "Requirement already satisfied: keras<2.9,>=2.8.0rc0 in /usr/local/lib/python3.7/dist-packages (from tensorflow) (2.8.0)\n",
            "Requirement already satisfied: numpy>=1.20 in /usr/local/lib/python3.7/dist-packages (from tensorflow) (1.21.5)\n",
            "Requirement already satisfied: opt-einsum>=2.3.2 in /usr/local/lib/python3.7/dist-packages (from tensorflow) (3.3.0)\n",
            "Requirement already satisfied: absl-py>=0.4.0 in /usr/local/lib/python3.7/dist-packages (from tensorflow) (1.0.0)\n",
            "Requirement already satisfied: h5py>=2.9.0 in /usr/local/lib/python3.7/dist-packages (from tensorflow) (2.10.0)\n",
            "Requirement already satisfied: wheel<1.0,>=0.23.0 in /usr/local/lib/python3.7/dist-packages (from astunparse>=1.6.0->tensorflow) (0.37.1)\n",
            "Requirement already satisfied: werkzeug>=0.11.15 in /usr/local/lib/python3.7/dist-packages (from tensorboard<2.9,>=2.8->tensorflow) (1.0.1)\n",
            "Requirement already satisfied: google-auth<3,>=1.6.3 in /usr/local/lib/python3.7/dist-packages (from tensorboard<2.9,>=2.8->tensorflow) (1.35.0)\n",
            "Requirement already satisfied: requests<3,>=2.21.0 in /usr/local/lib/python3.7/dist-packages (from tensorboard<2.9,>=2.8->tensorflow) (2.23.0)\n",
            "Requirement already satisfied: tensorboard-data-server<0.7.0,>=0.6.0 in /usr/local/lib/python3.7/dist-packages (from tensorboard<2.9,>=2.8->tensorflow) (0.6.1)\n",
            "Requirement already satisfied: tensorboard-plugin-wit>=1.6.0 in /usr/local/lib/python3.7/dist-packages (from tensorboard<2.9,>=2.8->tensorflow) (1.8.1)\n",
            "Requirement already satisfied: markdown>=2.6.8 in /usr/local/lib/python3.7/dist-packages (from tensorboard<2.9,>=2.8->tensorflow) (3.3.6)\n",
            "Requirement already satisfied: google-auth-oauthlib<0.5,>=0.4.1 in /usr/local/lib/python3.7/dist-packages (from tensorboard<2.9,>=2.8->tensorflow) (0.4.6)\n",
            "Requirement already satisfied: cachetools<5.0,>=2.0.0 in /usr/local/lib/python3.7/dist-packages (from google-auth<3,>=1.6.3->tensorboard<2.9,>=2.8->tensorflow) (4.2.4)\n",
            "Requirement already satisfied: rsa<5,>=3.1.4 in /usr/local/lib/python3.7/dist-packages (from google-auth<3,>=1.6.3->tensorboard<2.9,>=2.8->tensorflow) (4.8)\n",
            "Requirement already satisfied: pyasn1-modules>=0.2.1 in /usr/local/lib/python3.7/dist-packages (from google-auth<3,>=1.6.3->tensorboard<2.9,>=2.8->tensorflow) (0.2.8)\n",
            "Requirement already satisfied: requests-oauthlib>=0.7.0 in /usr/local/lib/python3.7/dist-packages (from google-auth-oauthlib<0.5,>=0.4.1->tensorboard<2.9,>=2.8->tensorflow) (1.3.1)\n",
            "Requirement already satisfied: importlib-metadata>=4.4 in /usr/local/lib/python3.7/dist-packages (from markdown>=2.6.8->tensorboard<2.9,>=2.8->tensorflow) (4.11.1)\n",
            "Requirement already satisfied: zipp>=0.5 in /usr/local/lib/python3.7/dist-packages (from importlib-metadata>=4.4->markdown>=2.6.8->tensorboard<2.9,>=2.8->tensorflow) (3.7.0)\n",
            "Requirement already satisfied: pyasn1<0.5.0,>=0.4.6 in /usr/local/lib/python3.7/dist-packages (from pyasn1-modules>=0.2.1->google-auth<3,>=1.6.3->tensorboard<2.9,>=2.8->tensorflow) (0.4.8)\n",
            "Requirement already satisfied: idna<3,>=2.5 in /usr/local/lib/python3.7/dist-packages (from requests<3,>=2.21.0->tensorboard<2.9,>=2.8->tensorflow) (2.10)\n",
            "Requirement already satisfied: urllib3!=1.25.0,!=1.25.1,<1.26,>=1.21.1 in /usr/local/lib/python3.7/dist-packages (from requests<3,>=2.21.0->tensorboard<2.9,>=2.8->tensorflow) (1.24.3)\n",
            "Requirement already satisfied: certifi>=2017.4.17 in /usr/local/lib/python3.7/dist-packages (from requests<3,>=2.21.0->tensorboard<2.9,>=2.8->tensorflow) (2021.10.8)\n",
            "Requirement already satisfied: chardet<4,>=3.0.2 in /usr/local/lib/python3.7/dist-packages (from requests<3,>=2.21.0->tensorboard<2.9,>=2.8->tensorflow) (3.0.4)\n",
            "Requirement already satisfied: oauthlib>=3.0.0 in /usr/local/lib/python3.7/dist-packages (from requests-oauthlib>=0.7.0->google-auth-oauthlib<0.5,>=0.4.1->tensorboard<2.9,>=2.8->tensorflow) (3.2.0)\n",
            "Installing collected packages: tf-estimator-nightly, tensorboard, tensorflow\n",
            "  Attempting uninstall: tensorboard\n",
            "    Found existing installation: tensorboard 2.2.2\n",
            "    Uninstalling tensorboard-2.2.2:\n",
            "      Successfully uninstalled tensorboard-2.2.2\n",
            "  Attempting uninstall: tensorflow\n",
            "    Found existing installation: tensorflow 2.2.0\n",
            "    Uninstalling tensorflow-2.2.0:\n",
            "      Successfully uninstalled tensorflow-2.2.0\n",
            "Successfully installed tensorboard-2.8.0 tensorflow-2.8.0 tf-estimator-nightly-2.8.0.dev2021122109\n"
          ]
        },
        {
          "output_type": "display_data",
          "data": {
            "application/vnd.colab-display-data+json": {
              "pip_warning": {
                "packages": [
                  "tensorboard",
                  "tensorflow"
                ]
              }
            }
          },
          "metadata": {}
        },
        {
          "output_type": "stream",
          "name": "stdout",
          "text": [
            "Requirement already satisfied: keras in /usr/local/lib/python3.7/dist-packages (2.8.0)\n"
          ]
        }
      ]
    },
    {
      "cell_type": "code",
      "source": [
        "import tensorflow as tf \n",
        "print(tf.__version__)"
      ],
      "metadata": {
        "colab": {
          "base_uri": "https://localhost:8080/"
        },
        "id": "MXgIqkRqN9IF",
        "outputId": "1e2301d6-ecb1-4f6c-933b-54ec76196619"
      },
      "execution_count": 1,
      "outputs": [
        {
          "output_type": "stream",
          "name": "stdout",
          "text": [
            "2.8.0\n"
          ]
        }
      ]
    },
    {
      "cell_type": "code",
      "source": [
        "from tensorflow.keras import Model\n",
        "from tensorflow.keras.layers import DepthwiseConv2D,Conv2D,BatchNormalization,GlobalAveragePooling2D,Flatten,Add,InputLayer,ReLU,ZeroPadding2D\n",
        "from tensorflow.keras.activations import relu,softmax\n",
        "from tensorflow.nn import relu6"
      ],
      "metadata": {
        "id": "j4nmAt7Me5h0"
      },
      "execution_count": 2,
      "outputs": []
    },
    {
      "cell_type": "code",
      "source": [
        "class DottleneckDepthSeparableConvolution(Model):\n",
        "  def __init__(self,t,c,f,stride=1):\n",
        "    super().__init__()\n",
        "    self.expansion = Conv2D(filters=(t*c),kernel_size=1)\n",
        "    self.stride = stride\n",
        "    if stride==2:\n",
        "      self.zero_pad = ZeroPadding2D(padding=((1, 0), (1, 0)))\n",
        "      self.depthwise_conv = DepthwiseConv2D(kernel_size=3,padding='valid',strides=2)\n",
        "    else:\n",
        "      self.depthwise_conv = DepthwiseConv2D(kernel_size=3,padding='same')\n",
        "    self.projection = Conv2D(filters=f,kernel_size=1)\n",
        "    self.relu_activation =  relu6\n",
        "    self.add = Add()\n",
        "\n",
        "  def call(self,inputs):\n",
        "    x = self.expansion(inputs)\n",
        "    x = self.relu_activation(x)\n",
        "    if self.stride==2:\n",
        "      x = self.zero_pad(x)\n",
        "    x = self.depthwise_conv(x)\n",
        "    x = self.relu_activation(x)\n",
        "    x = self.projection(x)\n",
        "    output = x\n",
        "    if(x.shape==inputs.shape):\n",
        "      output = self.add([x,inputs])\n",
        "      \n",
        "    return output"
      ],
      "metadata": {
        "id": "VAJkSk4Oe6Bi"
      },
      "execution_count": 3,
      "outputs": []
    },
    {
      "cell_type": "code",
      "source": [
        "'''\n",
        "class DottleneckDepthSeparableConvolutionStride2Block(Model):\n",
        "  def __init__(self,t,c,f):\n",
        "    super().__init__()\n",
        "    self.channels = t*c\n",
        "    self.expansion = Conv2D(filters=(t*c),kernel_size=1)\n",
        "    self.depthwise_conv = depthwise_conv2d\n",
        "    self.projection = Conv2D(filters=f,kernel_size=1)\n",
        "    self.relu_activation = ReLU()\n",
        "    f_init = tf.random_normal_initializer()\n",
        "    self.filter_init = tf.Variable(initial_value=f_init(shape=(3,3,(t*c),1) , dtype=\"float32\") , trainable=True)\n",
        "    self.bias = tf.nn.bias_add\n",
        "    self.b = tf.Variable(tf.zeros(shape = [(t*c),]), dtype=\"float32\")\n",
        "\n",
        "  def call(self,inputs):\n",
        "    x = self.expansion(inputs)\n",
        "    x = self.relu_activation(x)\n",
        "    x = self.depthwise_conv(x,filter=self.filter_init,strides = [1, 2, 2, 1],padding=[[0, 0], [1,0],[1,0], [0, 0]])\n",
        "    x = self.bias(x, self.b)\n",
        "    x = self.relu_activation(x)\n",
        "    x = self.projection(x)\n",
        "\n",
        "    return x\n",
        "    '''"
      ],
      "metadata": {
        "id": "-eBRtc0xe6aD"
      },
      "execution_count": null,
      "outputs": []
    },
    {
      "cell_type": "code",
      "source": [
        "class MobileNetBlock(Model):\n",
        "  def __init__(self,t,c,f,n,stride):\n",
        "    super().__init__()\n",
        "    self.stride2 = DottleneckDepthSeparableConvolution(t=t,c=c,f=f,stride=stride)\n",
        "    self.nl = n-1\n",
        "    self.layers1 = {}\n",
        "    for i in range(n-1):\n",
        "      self.layers1[\"stride1\"+str(i)] = DottleneckDepthSeparableConvolution(t=t,c=c,f=f)\n",
        "\n",
        "  def call(self,inputs):\n",
        "    x = self.stride2(inputs)\n",
        "    for i in range(self.nl):\n",
        "      x = self.layers1[\"stride1\"+str(i)](x)\n",
        "    return x"
      ],
      "metadata": {
        "id": "3OnUhA2soESM"
      },
      "execution_count": 4,
      "outputs": []
    },
    {
      "cell_type": "code",
      "source": [
        "class MobileNetV2(Model):\n",
        "  def __init__(self,input_shape,noof_classes):\n",
        "    super().__init__()\n",
        "    self.input1 = InputLayer(input_shape=input_shape)\n",
        "    self.zero_pad = ZeroPadding2D(padding=((1, 0), (1, 0)))\n",
        "    self.relu_activation =  relu6\n",
        "    self.conv1 = Conv2D(filters=32,kernel_size=3,strides=2,padding='valid')\n",
        "    self.bottleneck1 = DottleneckDepthSeparableConvolution(t=1,c=32,f=16)\n",
        "    self.mobile_net_block1 = MobileNetBlock(t=6,c=16,f=24,n=2,stride=2)\n",
        "    self.mobile_net_block2 = MobileNetBlock(t=6,c=24,f=32,n=3,stride=2)\n",
        "    self.mobile_net_block3 = MobileNetBlock(t=6,c=32,f=64,n=4,stride=2)\n",
        "    self.mobile_net_block4 = MobileNetBlock(t=6,c=64,f=96,n=3,stride=1)\n",
        "    self.mobile_net_block5 = MobileNetBlock(t=6,c=96,f=160,n=3,stride=2)\n",
        "    self.bottleneck5 = DottleneckDepthSeparableConvolution(t=6,c=160,f=320)\n",
        "    self.conv2 = Conv2D(kernel_size=1,filters=1280)\n",
        "    self.global_avg_pool = GlobalAveragePooling2D(keepdims=True)\n",
        "    self.conv3 = Conv2D(kernel_size=1,filters=noof_classes)\n",
        "    self.flattten = Flatten()\n",
        "    self.classifier = softmax\n",
        "\n",
        "  def call(self,inputs):\n",
        "    x = self.input1(inputs)\n",
        "    x = self.zero_pad(x)\n",
        "    x = self.conv1(x)\n",
        "    x = self.relu_activation(x)\n",
        "    x = self.bottleneck1(x)\n",
        "    x = self.mobile_net_block1(x)\n",
        "    x = self.mobile_net_block2(x)\n",
        "    x = self.mobile_net_block3(x)\n",
        "    x = self.mobile_net_block4(x)\n",
        "    x = self.mobile_net_block5(x)\n",
        "    x = self.bottleneck5(x)\n",
        "    x = self.conv2(x)\n",
        "    x = self.global_avg_pool(x)\n",
        "    x = self.conv3(x)\n",
        "    x = self.flattten(x)\n",
        "    x = self.classifier(x)\n",
        "\n",
        "    return x\n",
        "    "
      ],
      "metadata": {
        "id": "UqyKmQf3lgah"
      },
      "execution_count": 5,
      "outputs": []
    },
    {
      "cell_type": "code",
      "source": [
        "MobileNetV2_model = MobileNetV2(input_shape=(None,224,224,3),noof_classes=1000)"
      ],
      "metadata": {
        "id": "SXCfr4-3tG-s"
      },
      "execution_count": 6,
      "outputs": []
    },
    {
      "cell_type": "code",
      "source": [
        "MobileNetV2_model.compile(optimizer=tf.keras.optimizers.Adam(learning_rate=1e-3),\n",
        "                       loss=tf.keras.losses.SparseCategoricalCrossentropy(),\n",
        "                       metrics=tf.keras.metrics.SparseCategoricalAccuracy()\n",
        "                        )"
      ],
      "metadata": {
        "id": "vTqDRgxrOngE"
      },
      "execution_count": 9,
      "outputs": []
    },
    {
      "cell_type": "code",
      "source": [
        "MobileNetV2_model.build(input_shape=(None,224,224,3)) "
      ],
      "metadata": {
        "id": "26QARk1Gezhr"
      },
      "execution_count": 7,
      "outputs": []
    },
    {
      "cell_type": "code",
      "source": [
        "MobileNetV2_model.summary()"
      ],
      "metadata": {
        "id": "_9LhSUh9ewyD",
        "colab": {
          "base_uri": "https://localhost:8080/"
        },
        "outputId": "a7765c42-4939-408a-e4ee-f63b29a4f378"
      },
      "execution_count": 8,
      "outputs": [
        {
          "output_type": "stream",
          "name": "stdout",
          "text": [
            "Model: \"mobile_net_v2\"\n",
            "_________________________________________________________________\n",
            " Layer (type)                Output Shape              Param #   \n",
            "=================================================================\n",
            " input_1 (InputLayer)        [(None, None, 224, 224,   0         \n",
            "                             3)]                                 \n",
            "                                                                 \n",
            " zero_padding2d (ZeroPadding  multiple                 0         \n",
            " 2D)                                                             \n",
            "                                                                 \n",
            " conv2d (Conv2D)             multiple                  896       \n",
            "                                                                 \n",
            " dottleneck_depth_separable_  multiple                 1904      \n",
            " convolution (DottleneckDept                                     \n",
            " hSeparableConvolution)                                          \n",
            "                                                                 \n",
            " mobile_net_block (MobileNet  multiple                 10608     \n",
            " Block)                                                          \n",
            "                                                                 \n",
            " mobile_net_block_1 (MobileN  multiple                 31344     \n",
            " etBlock)                                                        \n",
            "                                                                 \n",
            " mobile_net_block_2 (MobileN  multiple                 100864    \n",
            " etBlock)                                                        \n",
            "                                                                 \n",
            " mobile_net_block_3 (MobileN  multiple                 221856    \n",
            " etBlock)                                                        \n",
            "                                                                 \n",
            " mobile_net_block_4 (MobileN  multiple                 535584    \n",
            " etBlock)                                                        \n",
            "                                                                 \n",
            " dottleneck_depth_separable_  multiple                 471680    \n",
            " convolution_16 (DottleneckD                                     \n",
            " epthSeparableConvolution)                                       \n",
            "                                                                 \n",
            " conv2d_35 (Conv2D)          multiple                  410880    \n",
            "                                                                 \n",
            " global_average_pooling2d (G  multiple                 0         \n",
            " lobalAveragePooling2D)                                          \n",
            "                                                                 \n",
            " conv2d_36 (Conv2D)          multiple                  1281000   \n",
            "                                                                 \n",
            " flatten (Flatten)           multiple                  0         \n",
            "                                                                 \n",
            "=================================================================\n",
            "Total params: 3,066,616\n",
            "Trainable params: 3,066,616\n",
            "Non-trainable params: 0\n",
            "_________________________________________________________________\n"
          ]
        }
      ]
    }
  ]
}