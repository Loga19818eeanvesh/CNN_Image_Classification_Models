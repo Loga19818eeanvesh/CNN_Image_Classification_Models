{
  "nbformat": 4,
  "nbformat_minor": 0,
  "metadata": {
    "colab": {
      "name": "2019_MobileNetV2.ipynb",
      "provenance": [],
      "collapsed_sections": [],
      "authorship_tag": "ABX9TyNlBXu+C2tAr+Qzckg2KaaQ",
      "include_colab_link": true
    },
    "kernelspec": {
      "name": "python3",
      "display_name": "Python 3"
    },
    "language_info": {
      "name": "python"
    }
  },
  "cells": [
    {
      "cell_type": "markdown",
      "metadata": {
        "id": "view-in-github",
        "colab_type": "text"
      },
      "source": [
        "<a href=\"https://colab.research.google.com/github/Loga19818eeanvesh/CNN_Models/blob/main/2019_MobileNetV2.ipynb\" target=\"_parent\"><img src=\"https://colab.research.google.com/assets/colab-badge.svg\" alt=\"Open In Colab\"/></a>"
      ]
    },
    {
      "cell_type": "code",
      "execution_count": 1,
      "metadata": {
        "colab": {
          "base_uri": "https://localhost:8080/"
        },
        "id": "SkMqRxlUekPX",
        "outputId": "4e40e174-fb31-4dec-ae29-2d30ce207aeb"
      },
      "outputs": [
        {
          "output_type": "stream",
          "name": "stdout",
          "text": [
            "Collecting tensorflow==2.2.0\n",
            "  Downloading tensorflow-2.2.0-cp37-cp37m-manylinux2010_x86_64.whl (516.2 MB)\n",
            "\u001b[K     |████████████████████████████████| 516.2 MB 3.4 kB/s \n",
            "\u001b[?25hRequirement already satisfied: keras-preprocessing>=1.1.0 in /usr/local/lib/python3.7/dist-packages (from tensorflow==2.2.0) (1.1.2)\n",
            "Requirement already satisfied: termcolor>=1.1.0 in /usr/local/lib/python3.7/dist-packages (from tensorflow==2.2.0) (1.1.0)\n",
            "Requirement already satisfied: astunparse==1.6.3 in /usr/local/lib/python3.7/dist-packages (from tensorflow==2.2.0) (1.6.3)\n",
            "Collecting h5py<2.11.0,>=2.10.0\n",
            "  Downloading h5py-2.10.0-cp37-cp37m-manylinux1_x86_64.whl (2.9 MB)\n",
            "\u001b[K     |████████████████████████████████| 2.9 MB 42.9 MB/s \n",
            "\u001b[?25hRequirement already satisfied: wheel>=0.26 in /usr/local/lib/python3.7/dist-packages (from tensorflow==2.2.0) (0.37.1)\n",
            "Collecting gast==0.3.3\n",
            "  Downloading gast-0.3.3-py2.py3-none-any.whl (9.7 kB)\n",
            "Requirement already satisfied: opt-einsum>=2.3.2 in /usr/local/lib/python3.7/dist-packages (from tensorflow==2.2.0) (3.3.0)\n",
            "Collecting tensorflow-estimator<2.3.0,>=2.2.0\n",
            "  Downloading tensorflow_estimator-2.2.0-py2.py3-none-any.whl (454 kB)\n",
            "\u001b[K     |████████████████████████████████| 454 kB 50.2 MB/s \n",
            "\u001b[?25hRequirement already satisfied: six>=1.12.0 in /usr/local/lib/python3.7/dist-packages (from tensorflow==2.2.0) (1.15.0)\n",
            "Requirement already satisfied: numpy<2.0,>=1.16.0 in /usr/local/lib/python3.7/dist-packages (from tensorflow==2.2.0) (1.21.5)\n",
            "Requirement already satisfied: wrapt>=1.11.1 in /usr/local/lib/python3.7/dist-packages (from tensorflow==2.2.0) (1.13.3)\n",
            "Requirement already satisfied: google-pasta>=0.1.8 in /usr/local/lib/python3.7/dist-packages (from tensorflow==2.2.0) (0.2.0)\n",
            "Requirement already satisfied: protobuf>=3.8.0 in /usr/local/lib/python3.7/dist-packages (from tensorflow==2.2.0) (3.17.3)\n",
            "Requirement already satisfied: scipy==1.4.1 in /usr/local/lib/python3.7/dist-packages (from tensorflow==2.2.0) (1.4.1)\n",
            "Collecting tensorboard<2.3.0,>=2.2.0\n",
            "  Downloading tensorboard-2.2.2-py3-none-any.whl (3.0 MB)\n",
            "\u001b[K     |████████████████████████████████| 3.0 MB 26.5 MB/s \n",
            "\u001b[?25hRequirement already satisfied: grpcio>=1.8.6 in /usr/local/lib/python3.7/dist-packages (from tensorflow==2.2.0) (1.43.0)\n",
            "Requirement already satisfied: absl-py>=0.7.0 in /usr/local/lib/python3.7/dist-packages (from tensorflow==2.2.0) (1.0.0)\n",
            "Requirement already satisfied: google-auth<2,>=1.6.3 in /usr/local/lib/python3.7/dist-packages (from tensorboard<2.3.0,>=2.2.0->tensorflow==2.2.0) (1.35.0)\n",
            "Requirement already satisfied: google-auth-oauthlib<0.5,>=0.4.1 in /usr/local/lib/python3.7/dist-packages (from tensorboard<2.3.0,>=2.2.0->tensorflow==2.2.0) (0.4.6)\n",
            "Requirement already satisfied: tensorboard-plugin-wit>=1.6.0 in /usr/local/lib/python3.7/dist-packages (from tensorboard<2.3.0,>=2.2.0->tensorflow==2.2.0) (1.8.1)\n",
            "Requirement already satisfied: werkzeug>=0.11.15 in /usr/local/lib/python3.7/dist-packages (from tensorboard<2.3.0,>=2.2.0->tensorflow==2.2.0) (1.0.1)\n",
            "Requirement already satisfied: markdown>=2.6.8 in /usr/local/lib/python3.7/dist-packages (from tensorboard<2.3.0,>=2.2.0->tensorflow==2.2.0) (3.3.6)\n",
            "Requirement already satisfied: requests<3,>=2.21.0 in /usr/local/lib/python3.7/dist-packages (from tensorboard<2.3.0,>=2.2.0->tensorflow==2.2.0) (2.23.0)\n",
            "Requirement already satisfied: setuptools>=41.0.0 in /usr/local/lib/python3.7/dist-packages (from tensorboard<2.3.0,>=2.2.0->tensorflow==2.2.0) (57.4.0)\n",
            "Requirement already satisfied: rsa<5,>=3.1.4 in /usr/local/lib/python3.7/dist-packages (from google-auth<2,>=1.6.3->tensorboard<2.3.0,>=2.2.0->tensorflow==2.2.0) (4.8)\n",
            "Requirement already satisfied: pyasn1-modules>=0.2.1 in /usr/local/lib/python3.7/dist-packages (from google-auth<2,>=1.6.3->tensorboard<2.3.0,>=2.2.0->tensorflow==2.2.0) (0.2.8)\n",
            "Requirement already satisfied: cachetools<5.0,>=2.0.0 in /usr/local/lib/python3.7/dist-packages (from google-auth<2,>=1.6.3->tensorboard<2.3.0,>=2.2.0->tensorflow==2.2.0) (4.2.4)\n",
            "Requirement already satisfied: requests-oauthlib>=0.7.0 in /usr/local/lib/python3.7/dist-packages (from google-auth-oauthlib<0.5,>=0.4.1->tensorboard<2.3.0,>=2.2.0->tensorflow==2.2.0) (1.3.1)\n",
            "Requirement already satisfied: importlib-metadata>=4.4 in /usr/local/lib/python3.7/dist-packages (from markdown>=2.6.8->tensorboard<2.3.0,>=2.2.0->tensorflow==2.2.0) (4.11.1)\n",
            "Requirement already satisfied: typing-extensions>=3.6.4 in /usr/local/lib/python3.7/dist-packages (from importlib-metadata>=4.4->markdown>=2.6.8->tensorboard<2.3.0,>=2.2.0->tensorflow==2.2.0) (3.10.0.2)\n",
            "Requirement already satisfied: zipp>=0.5 in /usr/local/lib/python3.7/dist-packages (from importlib-metadata>=4.4->markdown>=2.6.8->tensorboard<2.3.0,>=2.2.0->tensorflow==2.2.0) (3.7.0)\n",
            "Requirement already satisfied: pyasn1<0.5.0,>=0.4.6 in /usr/local/lib/python3.7/dist-packages (from pyasn1-modules>=0.2.1->google-auth<2,>=1.6.3->tensorboard<2.3.0,>=2.2.0->tensorflow==2.2.0) (0.4.8)\n",
            "Requirement already satisfied: chardet<4,>=3.0.2 in /usr/local/lib/python3.7/dist-packages (from requests<3,>=2.21.0->tensorboard<2.3.0,>=2.2.0->tensorflow==2.2.0) (3.0.4)\n",
            "Requirement already satisfied: urllib3!=1.25.0,!=1.25.1,<1.26,>=1.21.1 in /usr/local/lib/python3.7/dist-packages (from requests<3,>=2.21.0->tensorboard<2.3.0,>=2.2.0->tensorflow==2.2.0) (1.24.3)\n",
            "Requirement already satisfied: idna<3,>=2.5 in /usr/local/lib/python3.7/dist-packages (from requests<3,>=2.21.0->tensorboard<2.3.0,>=2.2.0->tensorflow==2.2.0) (2.10)\n",
            "Requirement already satisfied: certifi>=2017.4.17 in /usr/local/lib/python3.7/dist-packages (from requests<3,>=2.21.0->tensorboard<2.3.0,>=2.2.0->tensorflow==2.2.0) (2021.10.8)\n",
            "Requirement already satisfied: oauthlib>=3.0.0 in /usr/local/lib/python3.7/dist-packages (from requests-oauthlib>=0.7.0->google-auth-oauthlib<0.5,>=0.4.1->tensorboard<2.3.0,>=2.2.0->tensorflow==2.2.0) (3.2.0)\n",
            "Installing collected packages: tensorflow-estimator, tensorboard, h5py, gast, tensorflow\n",
            "  Attempting uninstall: tensorflow-estimator\n",
            "    Found existing installation: tensorflow-estimator 2.8.0\n",
            "    Uninstalling tensorflow-estimator-2.8.0:\n",
            "      Successfully uninstalled tensorflow-estimator-2.8.0\n",
            "  Attempting uninstall: tensorboard\n",
            "    Found existing installation: tensorboard 2.8.0\n",
            "    Uninstalling tensorboard-2.8.0:\n",
            "      Successfully uninstalled tensorboard-2.8.0\n",
            "  Attempting uninstall: h5py\n",
            "    Found existing installation: h5py 3.1.0\n",
            "    Uninstalling h5py-3.1.0:\n",
            "      Successfully uninstalled h5py-3.1.0\n",
            "  Attempting uninstall: gast\n",
            "    Found existing installation: gast 0.5.3\n",
            "    Uninstalling gast-0.5.3:\n",
            "      Successfully uninstalled gast-0.5.3\n",
            "  Attempting uninstall: tensorflow\n",
            "    Found existing installation: tensorflow 2.8.0\n",
            "    Uninstalling tensorflow-2.8.0:\n",
            "      Successfully uninstalled tensorflow-2.8.0\n",
            "Successfully installed gast-0.3.3 h5py-2.10.0 tensorboard-2.2.2 tensorflow-2.2.0 tensorflow-estimator-2.2.0\n"
          ]
        }
      ],
      "source": [
        "!pip install tensorflow==2.2.0"
      ]
    },
    {
      "cell_type": "code",
      "source": [
        "import tensorflow as tf \n",
        "print(tf.__version__)"
      ],
      "metadata": {
        "colab": {
          "base_uri": "https://localhost:8080/"
        },
        "id": "4IkIE6b7e5Ix",
        "outputId": "cc4cd7e9-2e8e-452b-b6e8-3b6240dd358f"
      },
      "execution_count": 13,
      "outputs": [
        {
          "output_type": "stream",
          "name": "stdout",
          "text": [
            "2.2.0\n"
          ]
        }
      ]
    },
    {
      "cell_type": "code",
      "source": [
        "from tensorflow.keras import Model\n",
        "from tensorflow.keras.layers import DepthwiseConv2D,Conv2D,BatchNormalization,GlobalAveragePooling2D,Flatten,Add,InputLayer\n",
        "from tensorflow.keras.activations import relu,softmax\n",
        "from tensorflow.nn import relu6,conv2d,depthwise_conv2d"
      ],
      "metadata": {
        "id": "j4nmAt7Me5h0"
      },
      "execution_count": 14,
      "outputs": []
    },
    {
      "cell_type": "code",
      "source": [
        "class DottleneckDepthSeparableConvolution(Model):\n",
        "  def __init__(self,t,c,f):\n",
        "    super().__init__()\n",
        "    self.expansion = Conv2D(filters=(t*c),kernel_size=1)\n",
        "    self.depthwise_conv = DepthwiseConv2D(kernel_size=3,padding='same')\n",
        "    self.projection = Conv2D(filters=f,kernel_size=1)\n",
        "    self.add = Add()\n",
        "\n",
        "  def call(self,inputs):\n",
        "    x = self.expansion(inputs)\n",
        "    x = self.depthwise_conv(x)\n",
        "    x = self.projection(x)\n",
        "\n",
        "    output = self.add([x,inputs])\n",
        "    return output"
      ],
      "metadata": {
        "id": "VAJkSk4Oe6Bi"
      },
      "execution_count": 15,
      "outputs": []
    },
    {
      "cell_type": "code",
      "source": [
        "class DottleneckDepthSeparableConvolutionStride2Block(Model):\n",
        "  def __init__(self,t,c,f):\n",
        "    super().__init__()\n",
        "    self.chanells = t*c\n",
        "    self.expansion = Conv2D(filters=(t*c),kernel_size=1)\n",
        "    self.depthwise_conv = depthwise_conv2d\n",
        "    self.projection = Conv2D(filters=f,kernel_size=1)\n",
        "    \n",
        "\n",
        "  def call(self,inputs):\n",
        "    x = self.expansion(inputs)\n",
        "    x = self.depthwise_conv(x,filter=[3,3,self.chanells,1],strides = [1, 2, 2, 1],padding=[[0, 0], [1,0],[1,0], [0, 0]])\n",
        "    x = self.projection(x)\n",
        "\n",
        "    return x"
      ],
      "metadata": {
        "id": "-eBRtc0xe6aD"
      },
      "execution_count": 16,
      "outputs": []
    },
    {
      "cell_type": "code",
      "source": [
        "class MobileNetBlock(Model):\n",
        "  def __init__(self,t,c,f,n):\n",
        "    super().__init__()\n",
        "    self.stride2 = DottleneckDepthSeparableConvolutionStride2Block(t=t,c=c,f=f)\n",
        "    self.nl = n-1\n",
        "    self.layers1 = {}\n",
        "    for i in range(n-1):\n",
        "      self.layers1[\"stride1\"+str(i)] = DottleneckDepthSeparableConvolution(t=t,c=c,f=f)\n",
        "\n",
        "  def call(self,inputs):\n",
        "    x = self.stride2(inputs)\n",
        "    for i in range(self.nl):\n",
        "      x = self.layers1[\"stride1\"+str(i)](x)\n",
        "    return x"
      ],
      "metadata": {
        "id": "3OnUhA2soESM"
      },
      "execution_count": 25,
      "outputs": []
    },
    {
      "cell_type": "code",
      "source": [
        "class MobileNetV2(Model):\n",
        "  def __init__(self,input_shape,noof_classes):\n",
        "    super().__init__()\n",
        "    self.input1 = InputLayer(input_shape=input_shape)\n",
        "    self.conv1 = conv2d\n",
        "    self.bottleneck1 = DottleneckDepthSeparableConvolution(t=1,c=32,f=16)\n",
        "    self.mobile_net_block1 = MobileNetBlock(t=6,c=16,f=24,n=2)\n",
        "    self.mobile_net_block2 = MobileNetBlock(t=6,c=24,f=32,n=3)\n",
        "    self.mobile_net_block3 = MobileNetBlock(t=6,c=32,f=64,n=4)\n",
        "    self.bottleneck2 = DottleneckDepthSeparableConvolution(t=6,c=64,f=96)\n",
        "    self.bottleneck3 = DottleneckDepthSeparableConvolution(t=6,c=64,f=96)\n",
        "    self.bottleneck4 = DottleneckDepthSeparableConvolution(t=6,c=64,f=96)\n",
        "    self.mobile_net_block5 = MobileNetBlock(t=6,c=96,f=160,n=3)\n",
        "    self.bottleneck5 = DottleneckDepthSeparableConvolution(t=6,c=160,f=320)\n",
        "    self.conv2 = Conv2D(kernel_size=1,filters=1280)\n",
        "    self.global_avg_pool = GlobalAveragePooling2D()\n",
        "    self.conv3 = Conv2D(kernel_size=1,filters=noof_classes)\n",
        "    self.flattten = Flatten()\n",
        "    self.classifier = softmax\n",
        "\n",
        "  def call(self,inputs):\n",
        "    x = self.input1(inputs)\n",
        "    x = self.conv1(x,filters=[3,3,3,32],strides = [1, 2, 2, 1],padding= [[0, 0], [1,0],[1,0], [0, 0]])\n",
        "    x = self.bottleneck1(x)\n",
        "    x = self.mobile_net_block1(x)\n",
        "    x = self.mobile_net_block2(x)\n",
        "    x = self.mobile_net_block3(x)\n",
        "    x = self.bottleneck2(x)\n",
        "    x = self.bottleneck3(x)\n",
        "    x = self.bottleneck4(x)\n",
        "    x = self.mobile_net_block5(x)\n",
        "    x = self.bottleneck5(x)\n",
        "    x = self.conv2(x)\n",
        "    x = self.global_avg_pool(x)\n",
        "    x = self.conv3(x)\n",
        "    x = self.flattten(x)\n",
        "    x = self.classifier(x)\n",
        "\n",
        "    return x\n",
        "    "
      ],
      "metadata": {
        "id": "UqyKmQf3lgah"
      },
      "execution_count": 26,
      "outputs": []
    },
    {
      "cell_type": "code",
      "source": [
        "MobileNetV2_model = MobileNetV2(input_shape=(None,224,224,3),noof_classes=1000)"
      ],
      "metadata": {
        "id": "SXCfr4-3tG-s"
      },
      "execution_count": 27,
      "outputs": []
    },
    {
      "cell_type": "code",
      "source": [
        "MobileNetV2_model.build(input_shape=(None,224,224,3)) "
      ],
      "metadata": {
        "id": "DGpT53cAuW7A"
      },
      "execution_count": null,
      "outputs": []
    }
  ]
}