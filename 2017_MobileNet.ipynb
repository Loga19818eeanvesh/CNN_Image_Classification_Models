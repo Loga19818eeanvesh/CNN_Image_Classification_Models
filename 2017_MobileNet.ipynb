{
  "nbformat": 4,
  "nbformat_minor": 0,
  "metadata": {
    "colab": {
      "name": "2017_MobileNet.ipynb",
      "provenance": [],
      "authorship_tag": "ABX9TyNo1L3gJk9ZQ3OjWIzAfLHc",
      "include_colab_link": true
    },
    "kernelspec": {
      "name": "python3",
      "display_name": "Python 3"
    },
    "language_info": {
      "name": "python"
    }
  },
  "cells": [
    {
      "cell_type": "markdown",
      "metadata": {
        "id": "view-in-github",
        "colab_type": "text"
      },
      "source": [
        "<a href=\"https://colab.research.google.com/github/Loga19818eeanvesh/CNN_Models/blob/main/2017_MobileNet.ipynb\" target=\"_parent\"><img src=\"https://colab.research.google.com/assets/colab-badge.svg\" alt=\"Open In Colab\"/></a>"
      ]
    },
    {
      "cell_type": "code",
      "execution_count": 1,
      "metadata": {
        "colab": {
          "base_uri": "https://localhost:8080/"
        },
        "id": "QRNKfX7ugnBd",
        "outputId": "ae700e99-b528-4c79-86a3-2d337b2a834d"
      },
      "outputs": [
        {
          "output_type": "stream",
          "name": "stdout",
          "text": [
            "Collecting tensorflow==2.2.0\n",
            "  Downloading tensorflow-2.2.0-cp37-cp37m-manylinux2010_x86_64.whl (516.2 MB)\n",
            "\u001b[K     |████████████████████████████████| 516.2 MB 4.1 kB/s \n",
            "\u001b[?25hCollecting tensorboard<2.3.0,>=2.2.0\n",
            "  Downloading tensorboard-2.2.2-py3-none-any.whl (3.0 MB)\n",
            "\u001b[K     |████████████████████████████████| 3.0 MB 50.5 MB/s \n",
            "\u001b[?25hCollecting tensorflow-estimator<2.3.0,>=2.2.0\n",
            "  Downloading tensorflow_estimator-2.2.0-py2.py3-none-any.whl (454 kB)\n",
            "\u001b[K     |████████████████████████████████| 454 kB 57.4 MB/s \n",
            "\u001b[?25hRequirement already satisfied: astunparse==1.6.3 in /usr/local/lib/python3.7/dist-packages (from tensorflow==2.2.0) (1.6.3)\n",
            "Requirement already satisfied: keras-preprocessing>=1.1.0 in /usr/local/lib/python3.7/dist-packages (from tensorflow==2.2.0) (1.1.2)\n",
            "Collecting h5py<2.11.0,>=2.10.0\n",
            "  Downloading h5py-2.10.0-cp37-cp37m-manylinux1_x86_64.whl (2.9 MB)\n",
            "\u001b[K     |████████████████████████████████| 2.9 MB 44.1 MB/s \n",
            "\u001b[?25hRequirement already satisfied: wrapt>=1.11.1 in /usr/local/lib/python3.7/dist-packages (from tensorflow==2.2.0) (1.13.3)\n",
            "Requirement already satisfied: google-pasta>=0.1.8 in /usr/local/lib/python3.7/dist-packages (from tensorflow==2.2.0) (0.2.0)\n",
            "Requirement already satisfied: grpcio>=1.8.6 in /usr/local/lib/python3.7/dist-packages (from tensorflow==2.2.0) (1.43.0)\n",
            "Requirement already satisfied: scipy==1.4.1 in /usr/local/lib/python3.7/dist-packages (from tensorflow==2.2.0) (1.4.1)\n",
            "Requirement already satisfied: absl-py>=0.7.0 in /usr/local/lib/python3.7/dist-packages (from tensorflow==2.2.0) (1.0.0)\n",
            "Collecting gast==0.3.3\n",
            "  Downloading gast-0.3.3-py2.py3-none-any.whl (9.7 kB)\n",
            "Requirement already satisfied: numpy<2.0,>=1.16.0 in /usr/local/lib/python3.7/dist-packages (from tensorflow==2.2.0) (1.21.5)\n",
            "Requirement already satisfied: termcolor>=1.1.0 in /usr/local/lib/python3.7/dist-packages (from tensorflow==2.2.0) (1.1.0)\n",
            "Requirement already satisfied: wheel>=0.26 in /usr/local/lib/python3.7/dist-packages (from tensorflow==2.2.0) (0.37.1)\n",
            "Requirement already satisfied: six>=1.12.0 in /usr/local/lib/python3.7/dist-packages (from tensorflow==2.2.0) (1.15.0)\n",
            "Requirement already satisfied: protobuf>=3.8.0 in /usr/local/lib/python3.7/dist-packages (from tensorflow==2.2.0) (3.17.3)\n",
            "Requirement already satisfied: opt-einsum>=2.3.2 in /usr/local/lib/python3.7/dist-packages (from tensorflow==2.2.0) (3.3.0)\n",
            "Requirement already satisfied: markdown>=2.6.8 in /usr/local/lib/python3.7/dist-packages (from tensorboard<2.3.0,>=2.2.0->tensorflow==2.2.0) (3.3.6)\n",
            "Requirement already satisfied: werkzeug>=0.11.15 in /usr/local/lib/python3.7/dist-packages (from tensorboard<2.3.0,>=2.2.0->tensorflow==2.2.0) (1.0.1)\n",
            "Requirement already satisfied: requests<3,>=2.21.0 in /usr/local/lib/python3.7/dist-packages (from tensorboard<2.3.0,>=2.2.0->tensorflow==2.2.0) (2.23.0)\n",
            "Requirement already satisfied: tensorboard-plugin-wit>=1.6.0 in /usr/local/lib/python3.7/dist-packages (from tensorboard<2.3.0,>=2.2.0->tensorflow==2.2.0) (1.8.1)\n",
            "Requirement already satisfied: google-auth-oauthlib<0.5,>=0.4.1 in /usr/local/lib/python3.7/dist-packages (from tensorboard<2.3.0,>=2.2.0->tensorflow==2.2.0) (0.4.6)\n",
            "Requirement already satisfied: google-auth<2,>=1.6.3 in /usr/local/lib/python3.7/dist-packages (from tensorboard<2.3.0,>=2.2.0->tensorflow==2.2.0) (1.35.0)\n",
            "Requirement already satisfied: setuptools>=41.0.0 in /usr/local/lib/python3.7/dist-packages (from tensorboard<2.3.0,>=2.2.0->tensorflow==2.2.0) (57.4.0)\n",
            "Requirement already satisfied: rsa<5,>=3.1.4 in /usr/local/lib/python3.7/dist-packages (from google-auth<2,>=1.6.3->tensorboard<2.3.0,>=2.2.0->tensorflow==2.2.0) (4.8)\n",
            "Requirement already satisfied: cachetools<5.0,>=2.0.0 in /usr/local/lib/python3.7/dist-packages (from google-auth<2,>=1.6.3->tensorboard<2.3.0,>=2.2.0->tensorflow==2.2.0) (4.2.4)\n",
            "Requirement already satisfied: pyasn1-modules>=0.2.1 in /usr/local/lib/python3.7/dist-packages (from google-auth<2,>=1.6.3->tensorboard<2.3.0,>=2.2.0->tensorflow==2.2.0) (0.2.8)\n",
            "Requirement already satisfied: requests-oauthlib>=0.7.0 in /usr/local/lib/python3.7/dist-packages (from google-auth-oauthlib<0.5,>=0.4.1->tensorboard<2.3.0,>=2.2.0->tensorflow==2.2.0) (1.3.1)\n",
            "Requirement already satisfied: importlib-metadata>=4.4 in /usr/local/lib/python3.7/dist-packages (from markdown>=2.6.8->tensorboard<2.3.0,>=2.2.0->tensorflow==2.2.0) (4.11.1)\n",
            "Requirement already satisfied: zipp>=0.5 in /usr/local/lib/python3.7/dist-packages (from importlib-metadata>=4.4->markdown>=2.6.8->tensorboard<2.3.0,>=2.2.0->tensorflow==2.2.0) (3.7.0)\n",
            "Requirement already satisfied: typing-extensions>=3.6.4 in /usr/local/lib/python3.7/dist-packages (from importlib-metadata>=4.4->markdown>=2.6.8->tensorboard<2.3.0,>=2.2.0->tensorflow==2.2.0) (3.10.0.2)\n",
            "Requirement already satisfied: pyasn1<0.5.0,>=0.4.6 in /usr/local/lib/python3.7/dist-packages (from pyasn1-modules>=0.2.1->google-auth<2,>=1.6.3->tensorboard<2.3.0,>=2.2.0->tensorflow==2.2.0) (0.4.8)\n",
            "Requirement already satisfied: idna<3,>=2.5 in /usr/local/lib/python3.7/dist-packages (from requests<3,>=2.21.0->tensorboard<2.3.0,>=2.2.0->tensorflow==2.2.0) (2.10)\n",
            "Requirement already satisfied: certifi>=2017.4.17 in /usr/local/lib/python3.7/dist-packages (from requests<3,>=2.21.0->tensorboard<2.3.0,>=2.2.0->tensorflow==2.2.0) (2021.10.8)\n",
            "Requirement already satisfied: chardet<4,>=3.0.2 in /usr/local/lib/python3.7/dist-packages (from requests<3,>=2.21.0->tensorboard<2.3.0,>=2.2.0->tensorflow==2.2.0) (3.0.4)\n",
            "Requirement already satisfied: urllib3!=1.25.0,!=1.25.1,<1.26,>=1.21.1 in /usr/local/lib/python3.7/dist-packages (from requests<3,>=2.21.0->tensorboard<2.3.0,>=2.2.0->tensorflow==2.2.0) (1.24.3)\n",
            "Requirement already satisfied: oauthlib>=3.0.0 in /usr/local/lib/python3.7/dist-packages (from requests-oauthlib>=0.7.0->google-auth-oauthlib<0.5,>=0.4.1->tensorboard<2.3.0,>=2.2.0->tensorflow==2.2.0) (3.2.0)\n",
            "Installing collected packages: tensorflow-estimator, tensorboard, h5py, gast, tensorflow\n",
            "  Attempting uninstall: tensorflow-estimator\n",
            "    Found existing installation: tensorflow-estimator 2.8.0\n",
            "    Uninstalling tensorflow-estimator-2.8.0:\n",
            "      Successfully uninstalled tensorflow-estimator-2.8.0\n",
            "  Attempting uninstall: tensorboard\n",
            "    Found existing installation: tensorboard 2.8.0\n",
            "    Uninstalling tensorboard-2.8.0:\n",
            "      Successfully uninstalled tensorboard-2.8.0\n",
            "  Attempting uninstall: h5py\n",
            "    Found existing installation: h5py 3.1.0\n",
            "    Uninstalling h5py-3.1.0:\n",
            "      Successfully uninstalled h5py-3.1.0\n",
            "  Attempting uninstall: gast\n",
            "    Found existing installation: gast 0.5.3\n",
            "    Uninstalling gast-0.5.3:\n",
            "      Successfully uninstalled gast-0.5.3\n",
            "  Attempting uninstall: tensorflow\n",
            "    Found existing installation: tensorflow 2.8.0\n",
            "    Uninstalling tensorflow-2.8.0:\n",
            "      Successfully uninstalled tensorflow-2.8.0\n",
            "Successfully installed gast-0.3.3 h5py-2.10.0 tensorboard-2.2.2 tensorflow-2.2.0 tensorflow-estimator-2.2.0\n"
          ]
        }
      ],
      "source": [
        "!pip install tensorflow==2.2.0"
      ]
    },
    {
      "cell_type": "code",
      "source": [
        "import tensorflow as tf \n",
        "print(tf.__version__)"
      ],
      "metadata": {
        "colab": {
          "base_uri": "https://localhost:8080/"
        },
        "id": "raP4m8LQhC40",
        "outputId": "ec703d1a-e758-4211-c27a-c7fd194c7452"
      },
      "execution_count": 2,
      "outputs": [
        {
          "output_type": "stream",
          "name": "stdout",
          "text": [
            "2.2.0\n"
          ]
        }
      ]
    },
    {
      "cell_type": "code",
      "source": [
        "from tensorflow.keras import Model\n",
        "from tensorflow.keras.layers import DepthwiseConv2D,Conv2D,BatchNormalization,GlobalAveragePooling2D,Dense,Flatten,ReLU,Dense\n",
        "from tensorflow.keras.activations import relu,softmax"
      ],
      "metadata": {
        "id": "P3HJSDx7hKGI"
      },
      "execution_count": 7,
      "outputs": []
    },
    {
      "cell_type": "code",
      "source": [
        "class DepthwiseSeparableConvolution(Model):\n",
        "  def __init__(self,filters,strides=1,padding='same',kernel_size=3):\n",
        "    super().__init__()\n",
        "    self.depthwise_conv = DepthwiseConv2D(kernel_size=kernel_size,strides=strides,padding=padding)\n",
        "    self.pointwise_conv = Conv2D(kernel_size=1,filters=filters)\n",
        "    self.batch_norm_depthwise = BatchNormalization()\n",
        "    self.batch_norm_pointwise = BatchNormalization()\n",
        "    self.relu_activation = ReLU()\n",
        "\n",
        "  def call(self,inputs):\n",
        "    x = self.depthwise_conv(inputs)\n",
        "    x = self.batch_norm_depthwise(x)\n",
        "    x = self.relu_activation(x)\n",
        "    x = self.pointwise_conv(x)\n",
        "    x = self.batch_norm_pointwise(x)\n",
        "    x = self.relu_activation(x)\n",
        "\n",
        "    return x\n"
      ],
      "metadata": {
        "id": "Zp4MQGV2hd9M"
      },
      "execution_count": 17,
      "outputs": []
    },
    {
      "cell_type": "code",
      "source": [
        "class MobileNet(Model):\n",
        "  def __init__(self,input_shape,noof_classes):\n",
        "    super().__init__()\n",
        "    self.conv_input = Conv2D(input_shape=input_shape,kernel_size=3,filters=32,strides=2)\n",
        "    self.batch_norm = BatchNormalization()\n",
        "    self.relu_activation = ReLU()\n",
        "    self.DepthwiseSeparableConvolution1 = DepthwiseSeparableConvolution(filters=64)\n",
        "    self.DepthwiseSeparableConvolution2 = DepthwiseSeparableConvolution(filters=128,strides=2,padding='valid')\n",
        "    self.DepthwiseSeparableConvolution3 = DepthwiseSeparableConvolution(filters=128)\n",
        "    self.DepthwiseSeparableConvolution4 = DepthwiseSeparableConvolution(filters=256,strides=2,padding='valid')\n",
        "    self.DepthwiseSeparableConvolution5 = DepthwiseSeparableConvolution(filters=256)\n",
        "    self.DepthwiseSeparableConvolution6 = DepthwiseSeparableConvolution(filters=512,strides=2,padding='valid')\n",
        "    self.DepthwiseSeparableConvolution7 = DepthwiseSeparableConvolution(filters=512)\n",
        "    self.DepthwiseSeparableConvolution8 = DepthwiseSeparableConvolution(filters=512)\n",
        "    self.DepthwiseSeparableConvolution9 = DepthwiseSeparableConvolution(filters=512)\n",
        "    self.DepthwiseSeparableConvolution10= DepthwiseSeparableConvolution(filters=512)\n",
        "    self.DepthwiseSeparableConvolution11= DepthwiseSeparableConvolution(filters=512)\n",
        "    self.DepthwiseSeparableConvolution12= DepthwiseSeparableConvolution(filters=1024,strides=2,padding='valid')\n",
        "    self.DepthwiseSeparableConvolution13= DepthwiseSeparableConvolution(filters=1024,strides=2,padding='valid')\n",
        "    self.global_avg_pool = GlobalAveragePooling2D()\n",
        "    self.flatten = Flatten()\n",
        "    self.classifier = Dense(units=noof_classes,activation=softmax)\n",
        "    \n",
        "  def call(self,inputs):\n",
        "    x = self.conv_input(inputs)\n",
        "    x = self.batch_norm(x)\n",
        "    x = self.relu_activation(x)\n",
        "    x = self.DepthwiseSeparableConvolution1(x)\n",
        "    x = self.DepthwiseSeparableConvolution2(x)\n",
        "    x = self.DepthwiseSeparableConvolution3(x)\n",
        "    x = self.DepthwiseSeparableConvolution4(x)\n",
        "    x = self.DepthwiseSeparableConvolution5(x)\n",
        "    x = self.DepthwiseSeparableConvolution6(x)\n",
        "    x = self.DepthwiseSeparableConvolution7(x)\n",
        "    x = self.DepthwiseSeparableConvolution8(x)\n",
        "    x = self.DepthwiseSeparableConvolution9(x)\n",
        "    x = self.DepthwiseSeparableConvolution10(x)\n",
        "    x = self.DepthwiseSeparableConvolution11(x)\n",
        "    x = self.DepthwiseSeparableConvolution12(x)\n",
        "    x = self.DepthwiseSeparableConvolution13(x)\n",
        "    x = self.global_avg_pool(x)\n",
        "    x = self.flatten(x)\n",
        "    x = self.classifier(x)\n",
        "\n",
        "    return x\n",
        "    "
      ],
      "metadata": {
        "id": "_-I5R5IhkK5c"
      },
      "execution_count": 18,
      "outputs": []
    },
    {
      "cell_type": "code",
      "source": [
        "MobileNet_model = MobileNet(input_shape=(None,224,224,3),noof_classes=1000)"
      ],
      "metadata": {
        "id": "OcHYGOkSojJU"
      },
      "execution_count": 19,
      "outputs": []
    },
    {
      "cell_type": "code",
      "source": [
        "MobileNet_model.compile(optimizer=tf.keras.optimizers.Adam(learning_rate=1e-3),\n",
        "                        loss=tf.keras.losses.SparseCategoricalCrossentropy(),\n",
        "                        metrics=tf.keras.metrics.SparseCategoricalAccuracy())"
      ],
      "metadata": {
        "id": "p7-CrKhHo5im"
      },
      "execution_count": 20,
      "outputs": []
    },
    {
      "cell_type": "code",
      "source": [
        "MobileNet_model.build(input_shape=(None,224,224,3)) \n",
        "MobileNet_model.summary()"
      ],
      "metadata": {
        "colab": {
          "base_uri": "https://localhost:8080/"
        },
        "id": "w5EKeNdvpNTf",
        "outputId": "6b8081b4-05a2-4cce-f1ef-e4e4a4ae17f6"
      },
      "execution_count": 21,
      "outputs": [
        {
          "output_type": "stream",
          "name": "stdout",
          "text": [
            "Model: \"mobile_net_3\"\n",
            "_________________________________________________________________\n",
            "Layer (type)                 Output Shape              Param #   \n",
            "=================================================================\n",
            "conv2d_28 (Conv2D)           multiple                  896       \n",
            "_________________________________________________________________\n",
            "batch_normalization_54 (Batc multiple                  128       \n",
            "_________________________________________________________________\n",
            "re_lu_28 (ReLU)              multiple                  0         \n",
            "_________________________________________________________________\n",
            "depthwise_separable_convolut multiple                  2816      \n",
            "_________________________________________________________________\n",
            "depthwise_separable_convolut multiple                  9728      \n",
            "_________________________________________________________________\n",
            "depthwise_separable_convolut multiple                  18816     \n",
            "_________________________________________________________________\n",
            "depthwise_separable_convolut multiple                  35840     \n",
            "_________________________________________________________________\n",
            "depthwise_separable_convolut multiple                  70400     \n",
            "_________________________________________________________________\n",
            "depthwise_separable_convolut multiple                  137216    \n",
            "_________________________________________________________________\n",
            "depthwise_separable_convolut multiple                  271872    \n",
            "_________________________________________________________________\n",
            "depthwise_separable_convolut multiple                  271872    \n",
            "_________________________________________________________________\n",
            "depthwise_separable_convolut multiple                  271872    \n",
            "_________________________________________________________________\n",
            "depthwise_separable_convolut multiple                  271872    \n",
            "_________________________________________________________________\n",
            "depthwise_separable_convolut multiple                  271872    \n",
            "_________________________________________________________________\n",
            "depthwise_separable_convolut multiple                  536576    \n",
            "_________________________________________________________________\n",
            "depthwise_separable_convolut multiple                  1068032   \n",
            "_________________________________________________________________\n",
            "global_average_pooling2d_2 ( multiple                  0         \n",
            "_________________________________________________________________\n",
            "flatten_2 (Flatten)          multiple                  0         \n",
            "_________________________________________________________________\n",
            "dense_2 (Dense)              multiple                  1025000   \n",
            "=================================================================\n",
            "Total params: 4,264,808\n",
            "Trainable params: 4,242,920\n",
            "Non-trainable params: 21,888\n",
            "_________________________________________________________________\n"
          ]
        }
      ]
    }
  ]
}