{
  "nbformat": 4,
  "nbformat_minor": 0,
  "metadata": {
    "colab": {
      "name": "2018_DenseNet.ipynb",
      "provenance": [],
      "authorship_tag": "ABX9TyNl7eKYjiJaBZUWKf+eEyqm",
      "include_colab_link": true
    },
    "kernelspec": {
      "name": "python3",
      "display_name": "Python 3"
    },
    "language_info": {
      "name": "python"
    }
  },
  "cells": [
    {
      "cell_type": "markdown",
      "metadata": {
        "id": "view-in-github",
        "colab_type": "text"
      },
      "source": [
        "<a href=\"https://colab.research.google.com/github/Loga19818eeanvesh/CNN_Models/blob/main/2018_DenseNet.ipynb\" target=\"_parent\"><img src=\"https://colab.research.google.com/assets/colab-badge.svg\" alt=\"Open In Colab\"/></a>"
      ]
    },
    {
      "cell_type": "code",
      "execution_count": 1,
      "metadata": {
        "colab": {
          "base_uri": "https://localhost:8080/"
        },
        "id": "k5ZXhO0PHiY2",
        "outputId": "c00b74d0-ca62-4001-a6dd-81c064aee5e6"
      },
      "outputs": [
        {
          "output_type": "stream",
          "name": "stdout",
          "text": [
            "Requirement already satisfied: tensorflow in /usr/local/lib/python3.7/dist-packages (2.8.0)\n",
            "Requirement already satisfied: numpy>=1.20 in /usr/local/lib/python3.7/dist-packages (from tensorflow) (1.21.5)\n",
            "Requirement already satisfied: keras<2.9,>=2.8.0rc0 in /usr/local/lib/python3.7/dist-packages (from tensorflow) (2.8.0)\n",
            "Requirement already satisfied: keras-preprocessing>=1.1.1 in /usr/local/lib/python3.7/dist-packages (from tensorflow) (1.1.2)\n",
            "Requirement already satisfied: tensorflow-io-gcs-filesystem>=0.23.1 in /usr/local/lib/python3.7/dist-packages (from tensorflow) (0.24.0)\n",
            "Requirement already satisfied: six>=1.12.0 in /usr/local/lib/python3.7/dist-packages (from tensorflow) (1.15.0)\n",
            "Requirement already satisfied: setuptools in /usr/local/lib/python3.7/dist-packages (from tensorflow) (57.4.0)\n",
            "Requirement already satisfied: tensorboard<2.9,>=2.8 in /usr/local/lib/python3.7/dist-packages (from tensorflow) (2.8.0)\n",
            "Requirement already satisfied: astunparse>=1.6.0 in /usr/local/lib/python3.7/dist-packages (from tensorflow) (1.6.3)\n",
            "Requirement already satisfied: h5py>=2.9.0 in /usr/local/lib/python3.7/dist-packages (from tensorflow) (3.1.0)\n",
            "Requirement already satisfied: typing-extensions>=3.6.6 in /usr/local/lib/python3.7/dist-packages (from tensorflow) (3.10.0.2)\n",
            "Requirement already satisfied: google-pasta>=0.1.1 in /usr/local/lib/python3.7/dist-packages (from tensorflow) (0.2.0)\n",
            "Requirement already satisfied: gast>=0.2.1 in /usr/local/lib/python3.7/dist-packages (from tensorflow) (0.5.3)\n",
            "Requirement already satisfied: protobuf>=3.9.2 in /usr/local/lib/python3.7/dist-packages (from tensorflow) (3.17.3)\n",
            "Requirement already satisfied: flatbuffers>=1.12 in /usr/local/lib/python3.7/dist-packages (from tensorflow) (2.0)\n",
            "Requirement already satisfied: opt-einsum>=2.3.2 in /usr/local/lib/python3.7/dist-packages (from tensorflow) (3.3.0)\n",
            "Requirement already satisfied: termcolor>=1.1.0 in /usr/local/lib/python3.7/dist-packages (from tensorflow) (1.1.0)\n",
            "Requirement already satisfied: wrapt>=1.11.0 in /usr/local/lib/python3.7/dist-packages (from tensorflow) (1.13.3)\n",
            "Requirement already satisfied: grpcio<2.0,>=1.24.3 in /usr/local/lib/python3.7/dist-packages (from tensorflow) (1.43.0)\n",
            "Requirement already satisfied: libclang>=9.0.1 in /usr/local/lib/python3.7/dist-packages (from tensorflow) (13.0.0)\n",
            "Collecting tf-estimator-nightly==2.8.0.dev2021122109\n",
            "  Downloading tf_estimator_nightly-2.8.0.dev2021122109-py2.py3-none-any.whl (462 kB)\n",
            "\u001b[K     |████████████████████████████████| 462 kB 6.9 MB/s \n",
            "\u001b[?25hRequirement already satisfied: absl-py>=0.4.0 in /usr/local/lib/python3.7/dist-packages (from tensorflow) (1.0.0)\n",
            "Requirement already satisfied: wheel<1.0,>=0.23.0 in /usr/local/lib/python3.7/dist-packages (from astunparse>=1.6.0->tensorflow) (0.37.1)\n",
            "Requirement already satisfied: cached-property in /usr/local/lib/python3.7/dist-packages (from h5py>=2.9.0->tensorflow) (1.5.2)\n",
            "Requirement already satisfied: google-auth<3,>=1.6.3 in /usr/local/lib/python3.7/dist-packages (from tensorboard<2.9,>=2.8->tensorflow) (1.35.0)\n",
            "Requirement already satisfied: markdown>=2.6.8 in /usr/local/lib/python3.7/dist-packages (from tensorboard<2.9,>=2.8->tensorflow) (3.3.6)\n",
            "Requirement already satisfied: werkzeug>=0.11.15 in /usr/local/lib/python3.7/dist-packages (from tensorboard<2.9,>=2.8->tensorflow) (1.0.1)\n",
            "Requirement already satisfied: google-auth-oauthlib<0.5,>=0.4.1 in /usr/local/lib/python3.7/dist-packages (from tensorboard<2.9,>=2.8->tensorflow) (0.4.6)\n",
            "Requirement already satisfied: requests<3,>=2.21.0 in /usr/local/lib/python3.7/dist-packages (from tensorboard<2.9,>=2.8->tensorflow) (2.23.0)\n",
            "Requirement already satisfied: tensorboard-data-server<0.7.0,>=0.6.0 in /usr/local/lib/python3.7/dist-packages (from tensorboard<2.9,>=2.8->tensorflow) (0.6.1)\n",
            "Requirement already satisfied: tensorboard-plugin-wit>=1.6.0 in /usr/local/lib/python3.7/dist-packages (from tensorboard<2.9,>=2.8->tensorflow) (1.8.1)\n",
            "Requirement already satisfied: rsa<5,>=3.1.4 in /usr/local/lib/python3.7/dist-packages (from google-auth<3,>=1.6.3->tensorboard<2.9,>=2.8->tensorflow) (4.8)\n",
            "Requirement already satisfied: cachetools<5.0,>=2.0.0 in /usr/local/lib/python3.7/dist-packages (from google-auth<3,>=1.6.3->tensorboard<2.9,>=2.8->tensorflow) (4.2.4)\n",
            "Requirement already satisfied: pyasn1-modules>=0.2.1 in /usr/local/lib/python3.7/dist-packages (from google-auth<3,>=1.6.3->tensorboard<2.9,>=2.8->tensorflow) (0.2.8)\n",
            "Requirement already satisfied: requests-oauthlib>=0.7.0 in /usr/local/lib/python3.7/dist-packages (from google-auth-oauthlib<0.5,>=0.4.1->tensorboard<2.9,>=2.8->tensorflow) (1.3.1)\n",
            "Requirement already satisfied: importlib-metadata>=4.4 in /usr/local/lib/python3.7/dist-packages (from markdown>=2.6.8->tensorboard<2.9,>=2.8->tensorflow) (4.11.1)\n",
            "Requirement already satisfied: zipp>=0.5 in /usr/local/lib/python3.7/dist-packages (from importlib-metadata>=4.4->markdown>=2.6.8->tensorboard<2.9,>=2.8->tensorflow) (3.7.0)\n",
            "Requirement already satisfied: pyasn1<0.5.0,>=0.4.6 in /usr/local/lib/python3.7/dist-packages (from pyasn1-modules>=0.2.1->google-auth<3,>=1.6.3->tensorboard<2.9,>=2.8->tensorflow) (0.4.8)\n",
            "Requirement already satisfied: certifi>=2017.4.17 in /usr/local/lib/python3.7/dist-packages (from requests<3,>=2.21.0->tensorboard<2.9,>=2.8->tensorflow) (2021.10.8)\n",
            "Requirement already satisfied: urllib3!=1.25.0,!=1.25.1,<1.26,>=1.21.1 in /usr/local/lib/python3.7/dist-packages (from requests<3,>=2.21.0->tensorboard<2.9,>=2.8->tensorflow) (1.24.3)\n",
            "Requirement already satisfied: chardet<4,>=3.0.2 in /usr/local/lib/python3.7/dist-packages (from requests<3,>=2.21.0->tensorboard<2.9,>=2.8->tensorflow) (3.0.4)\n",
            "Requirement already satisfied: idna<3,>=2.5 in /usr/local/lib/python3.7/dist-packages (from requests<3,>=2.21.0->tensorboard<2.9,>=2.8->tensorflow) (2.10)\n",
            "Requirement already satisfied: oauthlib>=3.0.0 in /usr/local/lib/python3.7/dist-packages (from requests-oauthlib>=0.7.0->google-auth-oauthlib<0.5,>=0.4.1->tensorboard<2.9,>=2.8->tensorflow) (3.2.0)\n",
            "Installing collected packages: tf-estimator-nightly\n",
            "Successfully installed tf-estimator-nightly-2.8.0.dev2021122109\n",
            "Requirement already satisfied: keras in /usr/local/lib/python3.7/dist-packages (2.8.0)\n"
          ]
        }
      ],
      "source": [
        "!pip install tensorflow --upgrade\n",
        "!pip install keras --upgrade"
      ]
    },
    {
      "cell_type": "code",
      "source": [
        "import tensorflow as tf \n",
        "print(tf.__version__)"
      ],
      "metadata": {
        "colab": {
          "base_uri": "https://localhost:8080/"
        },
        "id": "4zQOsvBeH7m0",
        "outputId": "f6b53862-477b-4df0-9041-4a0100870e00"
      },
      "execution_count": 2,
      "outputs": [
        {
          "output_type": "stream",
          "name": "stdout",
          "text": [
            "2.8.0\n"
          ]
        }
      ]
    },
    {
      "cell_type": "code",
      "source": [
        "from tensorflow.keras import Model\n",
        "from tensorflow.keras.layers import AveragePooling2D,DepthwiseConv2D,Concatenate,Conv2D,BatchNormalization,GlobalAveragePooling2D,Flatten,Add,InputLayer,ReLU,ZeroPadding2D,MaxPool2D,Dense\n",
        "from tensorflow.keras.activations import relu,softmax"
      ],
      "metadata": {
        "id": "1A8BZLRZH_OB"
      },
      "execution_count": 15,
      "outputs": []
    },
    {
      "cell_type": "code",
      "source": [
        "class BottleNeckBlockFor3by3Conv(Model):\n",
        "  def __init__(self,k):\n",
        "    super().__init__()\n",
        "    self.batch_norm_1by1 = BatchNormalization()\n",
        "    self.relu_activation = ReLU()\n",
        "    self.conv_1by1 = Conv2D(filters=(4*k),kernel_size=1)\n",
        "    self.batch_norm_3by3 = BatchNormalization()\n",
        "    self.conv_3by3 = Conv2D(filters=k,kernel_size=3,padding='same')\n",
        "\n",
        "  def call(self,inputs):\n",
        "    x = self.batch_norm_1by1(inputs)\n",
        "    x = self.relu_activation(x)\n",
        "    x = self.conv_1by1(x)\n",
        "    x = self.batch_norm_3by3(x)\n",
        "    x = self.relu_activation(x)\n",
        "    x = self.conv_3by3(x)\n",
        "    return x"
      ],
      "metadata": {
        "id": "WsYz5a0RIkWn"
      },
      "execution_count": 9,
      "outputs": []
    },
    {
      "cell_type": "code",
      "source": [
        "class DenseBlock(Model):\n",
        "\n",
        "  def __init__(self,k,n):\n",
        "    super().__init__()\n",
        "    self.n = n\n",
        "    self.bottle_neck_conv3by3 = {}\n",
        "    for i in range(n):\n",
        "      self.bottle_neck_conv3by3[\"bottle_neck_conv3by3_\"+str(i)] = BottleNeckBlockFor3by3Conv(k)\n",
        "    self.concat = Concatenate()\n",
        "\n",
        "  def call(self,inputs):\n",
        "    outputs = {}\n",
        "    for i in range(self.n):\n",
        "      outputs[\"x\"+str(i)] = 0\n",
        "\n",
        "    for i in range(self.n):\n",
        "      x = [inputs]\n",
        "      for j in range(i):\n",
        "        x.append(outputs[\"x\"+str(j)])\n",
        "      x = self.concat(x)\n",
        "      outputs[\"x\"+str(i)] = self.bottle_neck_conv3by3[\"bottle_neck_conv3by3_\"+str(i)](x)\n",
        "\n",
        "    output = []\n",
        "    for i in range(self.n):\n",
        "      output.append(outputs[\"x\"+str(i)])\n",
        "    output = self.concat(output)\n",
        "    return output"
      ],
      "metadata": {
        "id": "lQOLN9cRIP9C"
      },
      "execution_count": 22,
      "outputs": []
    },
    {
      "cell_type": "code",
      "source": [
        "class TransitionLayer(Model):\n",
        "  def __init__(self,k):\n",
        "    super().__init__()\n",
        "    self.batch_norm_1by1 = BatchNormalization()\n",
        "    self.conv_1by1 = Conv2D(filters=(4*k),kernel_size=1)\n",
        "    self.avg_pool = AveragePooling2D(pool_size=(2, 2), strides=2)\n",
        "\n",
        "  def call(self,inputs):\n",
        "    x = self.batch_norm_1by1(inputs)\n",
        "    x = self.conv_1by1(x)\n",
        "    x = self.avg_pool(x)\n",
        "\n",
        "    return x"
      ],
      "metadata": {
        "id": "SGBsf4OzQYuz"
      },
      "execution_count": 14,
      "outputs": []
    },
    {
      "cell_type": "code",
      "source": [
        "class DenseNet(Model):\n",
        "\n",
        "  def __init__(self,input_shape=(None,224,224,3),k=32,noof_classes=1000):\n",
        "    super().__init__()\n",
        "    self.input1 = InputLayer(input_shape=input_shape)\n",
        "    self.zero_pad = ZeroPadding2D(padding=((3, 2), (3, 2)))\n",
        "    self.batch_norm_7by7 = BatchNormalization()\n",
        "    self.relu_activation = ReLU()\n",
        "    self.conv_7by7 = Conv2D(filters=(2*k),kernel_size=7,padding='valid',strides=2)\n",
        "    self.batch_norm_pool = BatchNormalization()\n",
        "    self.maxpool = MaxPool2D(pool_size=3,strides=2)\n",
        "    self.dense_block1 = DenseBlock(k=k,n=6)\n",
        "    self.transition_layer1 = TransitionLayer(k=k)\n",
        "    self.dense_block2 = DenseBlock(k=k,n=12)\n",
        "    self.transition_layer2 = TransitionLayer(k=k)\n",
        "    self.dense_block3 = DenseBlock(k=k,n=24)\n",
        "    self.transition_layer3 = TransitionLayer(k=k)\n",
        "    self.dense_block4 = DenseBlock(k=k,n=16)\n",
        "    self.global_avg_pool = GlobalAveragePooling2D()\n",
        "    self.flatten = Flatten()\n",
        "    self.classifier = Dense(units=noof_classes,activation=softmax)\n",
        "\n",
        "  def call(self,inputs):\n",
        "    x = self.input1(inputs)\n",
        "    x = self.zero_pad(x)\n",
        "    x = self.batch_norm_7by7(x)\n",
        "    x = self.relu_activation(x)\n",
        "    x = self.conv_7by7(x)\n",
        "    x = self.batch_norm_pool(x)\n",
        "    x = self.relu_activation(x)\n",
        "    x = self.maxpool(x)\n",
        "    x = self.dense_block1(x)\n",
        "    x = self.transition_layer1(x)\n",
        "    x = self.dense_block2(x)\n",
        "    x = self.transition_layer2(x)\n",
        "    x = self.dense_block3(x)\n",
        "    x = self.transition_layer3(x)\n",
        "    x = self.dense_block4(x)\n",
        "    x = self.global_avg_pool(x)\n",
        "    x = self.flatten(x)\n",
        "    x = self.classifier(x)\n",
        "    return x\n"
      ],
      "metadata": {
        "id": "QZnw2Zc8Nzr0"
      },
      "execution_count": 23,
      "outputs": []
    },
    {
      "cell_type": "code",
      "source": [
        "DenseNet_model = DenseNet()"
      ],
      "metadata": {
        "id": "aPn6Io3VUnpW"
      },
      "execution_count": 24,
      "outputs": []
    },
    {
      "cell_type": "code",
      "source": [
        "DenseNet_model.compile(optimizer=tf.keras.optimizers.Adam(learning_rate=1e-3),\n",
        "                       loss=tf.keras.losses.SparseCategoricalCrossentropy(),\n",
        "                       metrics=tf.keras.metrics.SparseCategoricalAccuracy()\n",
        "                        )"
      ],
      "metadata": {
        "id": "laFTGTGrU5Xs"
      },
      "execution_count": 25,
      "outputs": []
    },
    {
      "cell_type": "code",
      "source": [
        "DenseNet_model.build(input_shape=(None,224,224,3))"
      ],
      "metadata": {
        "id": "sdbuA7OoVGPe"
      },
      "execution_count": 26,
      "outputs": []
    },
    {
      "cell_type": "code",
      "source": [
        "DenseNet_model.summary()"
      ],
      "metadata": {
        "colab": {
          "base_uri": "https://localhost:8080/"
        },
        "id": "6wT_D9xIVLxZ",
        "outputId": "85ff1b3d-48b8-445e-e22a-48a2ccb6a414"
      },
      "execution_count": 27,
      "outputs": [
        {
          "output_type": "stream",
          "name": "stdout",
          "text": [
            "Model: \"dense_net_1\"\n",
            "_________________________________________________________________\n",
            " Layer (type)                Output Shape              Param #   \n",
            "=================================================================\n",
            " input_2 (InputLayer)        [(None, None, 224, 224,   0         \n",
            "                             3)]                                 \n",
            "                                                                 \n",
            " zero_padding2d_1 (ZeroPaddi  multiple                 0         \n",
            " ng2D)                                                           \n",
            "                                                                 \n",
            " batch_normalization_121 (Ba  multiple                 12        \n",
            " tchNormalization)                                               \n",
            "                                                                 \n",
            " re_lu_59 (ReLU)             multiple                  0         \n",
            "                                                                 \n",
            " conv2d_120 (Conv2D)         multiple                  9472      \n",
            "                                                                 \n",
            " batch_normalization_122 (Ba  multiple                 256       \n",
            " tchNormalization)                                               \n",
            "                                                                 \n",
            " max_pooling2d_1 (MaxPooling  multiple                 0         \n",
            " 2D)                                                             \n",
            "                                                                 \n",
            " dense_block_4 (DenseBlock)  multiple                  339264    \n",
            "                                                                 \n",
            " transition_layer_3 (Transit  multiple                 25472     \n",
            " ionLayer)                                                       \n",
            "                                                                 \n",
            " dense_block_5 (DenseBlock)  multiple                  931968    \n",
            "                                                                 \n",
            " transition_layer_4 (Transit  multiple                 50816     \n",
            " ionLayer)                                                       \n",
            "                                                                 \n",
            " dense_block_6 (DenseBlock)  multiple                  2472192   \n",
            "                                                                 \n",
            " transition_layer_5 (Transit  multiple                 101504    \n",
            " ionLayer)                                                       \n",
            "                                                                 \n",
            " dense_block_7 (DenseBlock)  multiple                  1377792   \n",
            "                                                                 \n",
            " global_average_pooling2d_1   multiple                 0         \n",
            " (GlobalAveragePooling2D)                                        \n",
            "                                                                 \n",
            " flatten_1 (Flatten)         multiple                  0         \n",
            "                                                                 \n",
            " dense_1 (Dense)             multiple                  513000    \n",
            "                                                                 \n",
            "=================================================================\n",
            "Total params: 5,821,748\n",
            "Trainable params: 5,759,470\n",
            "Non-trainable params: 62,278\n",
            "_________________________________________________________________\n"
          ]
        }
      ]
    }
  ]
}