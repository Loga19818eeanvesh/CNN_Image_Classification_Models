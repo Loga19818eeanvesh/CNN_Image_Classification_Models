{
  "nbformat": 4,
  "nbformat_minor": 0,
  "metadata": {
    "colab": {
      "name": "ResNet.ipynb",
      "provenance": [],
      "collapsed_sections": [],
      "authorship_tag": "ABX9TyN4RRxHxW5nVC7R3KkukOMF",
      "include_colab_link": true
    },
    "kernelspec": {
      "name": "python3",
      "display_name": "Python 3"
    },
    "language_info": {
      "name": "python"
    }
  },
  "cells": [
    {
      "cell_type": "markdown",
      "metadata": {
        "id": "view-in-github",
        "colab_type": "text"
      },
      "source": [
        "<a href=\"https://colab.research.google.com/github/Loga19818eeanvesh/CNN_Models/blob/main/ResNet.ipynb\" target=\"_parent\"><img src=\"https://colab.research.google.com/assets/colab-badge.svg\" alt=\"Open In Colab\"/></a>"
      ]
    },
    {
      "cell_type": "code",
      "execution_count": 2,
      "metadata": {
        "colab": {
          "base_uri": "https://localhost:8080/"
        },
        "id": "QAEMGGv4dpv3",
        "outputId": "2c4a2c26-b4bf-46fc-e905-fd693f4e9cc2"
      },
      "outputs": [
        {
          "output_type": "stream",
          "name": "stdout",
          "text": [
            "2.8.0\n"
          ]
        }
      ],
      "source": [
        "import tensorflow as tf \n",
        "print(tf.__version__)"
      ]
    },
    {
      "cell_type": "code",
      "source": [
        "from tensorflow.keras import Model\n",
        "from tensorflow.keras.layers import Conv2D,BatchNormalization,ReLU,BatchNormalization,MaxPool2D,GlobalAveragePooling2D,Dense\n"
      ],
      "metadata": {
        "id": "TPJTEApTeRa_"
      },
      "execution_count": 12,
      "outputs": []
    },
    {
      "cell_type": "code",
      "source": [
        "class ResidualBlock(Model):\n",
        "  def __init__(self,kernel_size,noof_filters,input_depth,stride=(1,1)):\n",
        "    super().__init__()\n",
        "    self.conv1 = Conv2D(filters=noof_filters,kernel_size=kernel_size,strides=stride)\n",
        "    self.conv2 = Conv2D(filters=noof_filters,kernel_size=kernel_size,strides=stride)\n",
        "    self.relu = ReLU()\n",
        "    self.BatchNorm1 = BatchNormalization()\n",
        "    self.BatchNorm2 = BatchNormalization()\n",
        "    if input_depth!=noof_filters:\n",
        "      self.conv3(filters=noof_filters,kernel_size=1)\n",
        "\n",
        "  def __call__(self,inputs):\n",
        "    x = self.conv1(inputs);\n",
        "    x = self.BatchNorm1(x)\n",
        "    x = self.relu(x)\n",
        "    x = self.conv2(x)\n",
        "    x = self.BatchNorm2(x)\n",
        "    if(self.conv3!=None):\n",
        "      inputs = self.conv3(inputs)\n",
        "    x = self.relu(inputs+x)\n",
        "    return x"
      ],
      "metadata": {
        "id": "r-8EB6ggewHW"
      },
      "execution_count": 5,
      "outputs": []
    },
    {
      "cell_type": "code",
      "source": [
        "class ResNetBlock(Model):\n",
        "  def __init__(self,kernel_size,noof_filters,input_depth,noof_blocks,stride=(1,1)):\n",
        "    super().__init__()\n",
        "    self.noof_blocks = noof_blocks\n",
        "    ResidualBlocks = {}\n",
        "    ResidualBlocks[\"ResidualBlock0\"] = ResidualBlock(kernel_size=kernel_size,noof_filters=noof_filters,input_depth=input_depth,stride=stride)\n",
        "    for i in range(noof_blocks):\n",
        "      if i==0 :\n",
        "        continue\n",
        "      ResidualBlocks[\"ResidualBlock\"+str(i)] = ResidualBlock(kernel_size=kernel_size,noof_filters=noof_filters,input_depth=noof_filters,stride=stride)\n",
        "    self.Blocks = ResidualBlocks\n",
        "\n",
        "  def __call__(self,inputs):\n",
        "    x = self.Blocks[\"ResidualBlock0\"](inputs)\n",
        "    for i in range(self.noof_blocks):\n",
        "      if i==0:\n",
        "        continue\n",
        "      x = self.Blocks[\"ResidualBlock\"+str(i)](x)\n",
        "\n",
        "    return x\n"
      ],
      "metadata": {
        "id": "UiuG9F7FmQgI"
      },
      "execution_count": 13,
      "outputs": []
    },
    {
      "cell_type": "code",
      "source": [
        "class ResNet(Model):\n",
        "  def __init__(self,input_shape,input_filters,kernel_shape,outputs):\n",
        "    super().__init__()\n",
        "    self.conv1 = Conv2D(input_shape=input_shape,filters=input_filters)\n",
        "    self.BatchNorm = BatchNormalization()\n",
        "    self.maxpool = MaxPool2D()\n",
        "    self.relu = ReLU()\n",
        "    self.ResNetBlock1 = ResNetBlock(kernel_size=kernel_shape,noof_filters=64,input_depth=input_filters,noof_blocks=3)\n",
        "    self.ResNetBlock2 = ResNetBlock(kernel_size=kernel_shape,noof_filters=128,input_depth=64,noof_blocks=4)\n",
        "    self.ResNetBlock3 = ResNetBlock(kernel_size=kernel_shape,noof_filters=256,input_depth=128,noof_blocks=6)\n",
        "    self.ResNetBlock4 = ResNetBlock(kernel_size=kernel_shape,noof_filters=512,input_depth=256,noof_blocks=3)\n",
        "    self.GlobalAvgPool = GlobalAveragePooling2D()\n",
        "    self.classifier = Dense(units=outputs,activation=tf.keras.activations.softmax)\n",
        "\n",
        "  def __call__(self,inputs):\n",
        "    x = self.conv1(inputs)\n",
        "    x = self.BatchNorm(x)\n",
        "    x = self.relu(x)\n",
        "    x = self.maxpool(x)\n",
        "    x = self.ResNetBlock1(x)\n",
        "    x = self.ResNetBlock2(x)\n",
        "    x = self.ResNetBlock3(x)\n",
        "    x = self.ResNetBlock4(x)\n",
        "    x = self.GlobalAvgPool(x)\n",
        "    x = self.classifier(x)\n",
        "    return x"
      ],
      "metadata": {
        "id": "RpC7GcF_k4An"
      },
      "execution_count": 14,
      "outputs": []
    }
  ]
}
