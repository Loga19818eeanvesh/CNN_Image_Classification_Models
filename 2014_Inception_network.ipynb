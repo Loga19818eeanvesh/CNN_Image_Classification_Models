{
  "nbformat": 4,
  "nbformat_minor": 0,
  "metadata": {
    "colab": {
      "name": "2014_Inception_network.ipynb",
      "provenance": [],
      "authorship_tag": "ABX9TyPxYx8aiZRzATHoZIZp//DK",
      "include_colab_link": true
    },
    "kernelspec": {
      "name": "python3",
      "display_name": "Python 3"
    },
    "language_info": {
      "name": "python"
    }
  },
  "cells": [
    {
      "cell_type": "markdown",
      "metadata": {
        "id": "view-in-github",
        "colab_type": "text"
      },
      "source": [
        "<a href=\"https://colab.research.google.com/github/Loga19818eeanvesh/CNN_Models/blob/main/2014_Inception_network.ipynb\" target=\"_parent\"><img src=\"https://colab.research.google.com/assets/colab-badge.svg\" alt=\"Open In Colab\"/></a>"
      ]
    },
    {
      "cell_type": "code",
      "execution_count": 1,
      "metadata": {
        "colab": {
          "base_uri": "https://localhost:8080/"
        },
        "id": "RoLYefwwSNCn",
        "outputId": "2bf6b485-d652-45f4-aec0-c44d2fa00df1"
      },
      "outputs": [
        {
          "output_type": "stream",
          "name": "stdout",
          "text": [
            "Collecting tensorflow==2.2.0\n",
            "  Downloading tensorflow-2.2.0-cp37-cp37m-manylinux2010_x86_64.whl (516.2 MB)\n",
            "\u001b[K     |████████████████████████████████| 516.2 MB 4.2 kB/s \n",
            "\u001b[?25hCollecting gast==0.3.3\n",
            "  Downloading gast-0.3.3-py2.py3-none-any.whl (9.7 kB)\n",
            "Requirement already satisfied: protobuf>=3.8.0 in /usr/local/lib/python3.7/dist-packages (from tensorflow==2.2.0) (3.17.3)\n",
            "Requirement already satisfied: keras-preprocessing>=1.1.0 in /usr/local/lib/python3.7/dist-packages (from tensorflow==2.2.0) (1.1.2)\n",
            "Requirement already satisfied: termcolor>=1.1.0 in /usr/local/lib/python3.7/dist-packages (from tensorflow==2.2.0) (1.1.0)\n",
            "Requirement already satisfied: numpy<2.0,>=1.16.0 in /usr/local/lib/python3.7/dist-packages (from tensorflow==2.2.0) (1.21.5)\n",
            "Requirement already satisfied: opt-einsum>=2.3.2 in /usr/local/lib/python3.7/dist-packages (from tensorflow==2.2.0) (3.3.0)\n",
            "Requirement already satisfied: wheel>=0.26 in /usr/local/lib/python3.7/dist-packages (from tensorflow==2.2.0) (0.37.1)\n",
            "Requirement already satisfied: astunparse==1.6.3 in /usr/local/lib/python3.7/dist-packages (from tensorflow==2.2.0) (1.6.3)\n",
            "Requirement already satisfied: wrapt>=1.11.1 in /usr/local/lib/python3.7/dist-packages (from tensorflow==2.2.0) (1.13.3)\n",
            "Requirement already satisfied: grpcio>=1.8.6 in /usr/local/lib/python3.7/dist-packages (from tensorflow==2.2.0) (1.43.0)\n",
            "Collecting tensorflow-estimator<2.3.0,>=2.2.0\n",
            "  Downloading tensorflow_estimator-2.2.0-py2.py3-none-any.whl (454 kB)\n",
            "\u001b[K     |████████████████████████████████| 454 kB 50.9 MB/s \n",
            "\u001b[?25hRequirement already satisfied: google-pasta>=0.1.8 in /usr/local/lib/python3.7/dist-packages (from tensorflow==2.2.0) (0.2.0)\n",
            "Requirement already satisfied: absl-py>=0.7.0 in /usr/local/lib/python3.7/dist-packages (from tensorflow==2.2.0) (1.0.0)\n",
            "Requirement already satisfied: scipy==1.4.1 in /usr/local/lib/python3.7/dist-packages (from tensorflow==2.2.0) (1.4.1)\n",
            "Requirement already satisfied: six>=1.12.0 in /usr/local/lib/python3.7/dist-packages (from tensorflow==2.2.0) (1.15.0)\n",
            "Collecting h5py<2.11.0,>=2.10.0\n",
            "  Downloading h5py-2.10.0-cp37-cp37m-manylinux1_x86_64.whl (2.9 MB)\n",
            "\u001b[K     |████████████████████████████████| 2.9 MB 47.1 MB/s \n",
            "\u001b[?25hCollecting tensorboard<2.3.0,>=2.2.0\n",
            "  Downloading tensorboard-2.2.2-py3-none-any.whl (3.0 MB)\n",
            "\u001b[K     |████████████████████████████████| 3.0 MB 50.8 MB/s \n",
            "\u001b[?25hRequirement already satisfied: werkzeug>=0.11.15 in /usr/local/lib/python3.7/dist-packages (from tensorboard<2.3.0,>=2.2.0->tensorflow==2.2.0) (1.0.1)\n",
            "Requirement already satisfied: setuptools>=41.0.0 in /usr/local/lib/python3.7/dist-packages (from tensorboard<2.3.0,>=2.2.0->tensorflow==2.2.0) (57.4.0)\n",
            "Requirement already satisfied: tensorboard-plugin-wit>=1.6.0 in /usr/local/lib/python3.7/dist-packages (from tensorboard<2.3.0,>=2.2.0->tensorflow==2.2.0) (1.8.1)\n",
            "Requirement already satisfied: requests<3,>=2.21.0 in /usr/local/lib/python3.7/dist-packages (from tensorboard<2.3.0,>=2.2.0->tensorflow==2.2.0) (2.23.0)\n",
            "Requirement already satisfied: google-auth-oauthlib<0.5,>=0.4.1 in /usr/local/lib/python3.7/dist-packages (from tensorboard<2.3.0,>=2.2.0->tensorflow==2.2.0) (0.4.6)\n",
            "Requirement already satisfied: google-auth<2,>=1.6.3 in /usr/local/lib/python3.7/dist-packages (from tensorboard<2.3.0,>=2.2.0->tensorflow==2.2.0) (1.35.0)\n",
            "Requirement already satisfied: markdown>=2.6.8 in /usr/local/lib/python3.7/dist-packages (from tensorboard<2.3.0,>=2.2.0->tensorflow==2.2.0) (3.3.6)\n",
            "Requirement already satisfied: rsa<5,>=3.1.4 in /usr/local/lib/python3.7/dist-packages (from google-auth<2,>=1.6.3->tensorboard<2.3.0,>=2.2.0->tensorflow==2.2.0) (4.8)\n",
            "Requirement already satisfied: pyasn1-modules>=0.2.1 in /usr/local/lib/python3.7/dist-packages (from google-auth<2,>=1.6.3->tensorboard<2.3.0,>=2.2.0->tensorflow==2.2.0) (0.2.8)\n",
            "Requirement already satisfied: cachetools<5.0,>=2.0.0 in /usr/local/lib/python3.7/dist-packages (from google-auth<2,>=1.6.3->tensorboard<2.3.0,>=2.2.0->tensorflow==2.2.0) (4.2.4)\n",
            "Requirement already satisfied: requests-oauthlib>=0.7.0 in /usr/local/lib/python3.7/dist-packages (from google-auth-oauthlib<0.5,>=0.4.1->tensorboard<2.3.0,>=2.2.0->tensorflow==2.2.0) (1.3.1)\n",
            "Requirement already satisfied: importlib-metadata>=4.4 in /usr/local/lib/python3.7/dist-packages (from markdown>=2.6.8->tensorboard<2.3.0,>=2.2.0->tensorflow==2.2.0) (4.11.1)\n",
            "Requirement already satisfied: zipp>=0.5 in /usr/local/lib/python3.7/dist-packages (from importlib-metadata>=4.4->markdown>=2.6.8->tensorboard<2.3.0,>=2.2.0->tensorflow==2.2.0) (3.7.0)\n",
            "Requirement already satisfied: typing-extensions>=3.6.4 in /usr/local/lib/python3.7/dist-packages (from importlib-metadata>=4.4->markdown>=2.6.8->tensorboard<2.3.0,>=2.2.0->tensorflow==2.2.0) (3.10.0.2)\n",
            "Requirement already satisfied: pyasn1<0.5.0,>=0.4.6 in /usr/local/lib/python3.7/dist-packages (from pyasn1-modules>=0.2.1->google-auth<2,>=1.6.3->tensorboard<2.3.0,>=2.2.0->tensorflow==2.2.0) (0.4.8)\n",
            "Requirement already satisfied: urllib3!=1.25.0,!=1.25.1,<1.26,>=1.21.1 in /usr/local/lib/python3.7/dist-packages (from requests<3,>=2.21.0->tensorboard<2.3.0,>=2.2.0->tensorflow==2.2.0) (1.24.3)\n",
            "Requirement already satisfied: idna<3,>=2.5 in /usr/local/lib/python3.7/dist-packages (from requests<3,>=2.21.0->tensorboard<2.3.0,>=2.2.0->tensorflow==2.2.0) (2.10)\n",
            "Requirement already satisfied: certifi>=2017.4.17 in /usr/local/lib/python3.7/dist-packages (from requests<3,>=2.21.0->tensorboard<2.3.0,>=2.2.0->tensorflow==2.2.0) (2021.10.8)\n",
            "Requirement already satisfied: chardet<4,>=3.0.2 in /usr/local/lib/python3.7/dist-packages (from requests<3,>=2.21.0->tensorboard<2.3.0,>=2.2.0->tensorflow==2.2.0) (3.0.4)\n",
            "Requirement already satisfied: oauthlib>=3.0.0 in /usr/local/lib/python3.7/dist-packages (from requests-oauthlib>=0.7.0->google-auth-oauthlib<0.5,>=0.4.1->tensorboard<2.3.0,>=2.2.0->tensorflow==2.2.0) (3.2.0)\n",
            "Installing collected packages: tensorflow-estimator, tensorboard, h5py, gast, tensorflow\n",
            "  Attempting uninstall: tensorflow-estimator\n",
            "    Found existing installation: tensorflow-estimator 2.8.0\n",
            "    Uninstalling tensorflow-estimator-2.8.0:\n",
            "      Successfully uninstalled tensorflow-estimator-2.8.0\n",
            "  Attempting uninstall: tensorboard\n",
            "    Found existing installation: tensorboard 2.8.0\n",
            "    Uninstalling tensorboard-2.8.0:\n",
            "      Successfully uninstalled tensorboard-2.8.0\n",
            "  Attempting uninstall: h5py\n",
            "    Found existing installation: h5py 3.1.0\n",
            "    Uninstalling h5py-3.1.0:\n",
            "      Successfully uninstalled h5py-3.1.0\n",
            "  Attempting uninstall: gast\n",
            "    Found existing installation: gast 0.5.3\n",
            "    Uninstalling gast-0.5.3:\n",
            "      Successfully uninstalled gast-0.5.3\n",
            "  Attempting uninstall: tensorflow\n",
            "    Found existing installation: tensorflow 2.8.0\n",
            "    Uninstalling tensorflow-2.8.0:\n",
            "      Successfully uninstalled tensorflow-2.8.0\n",
            "Successfully installed gast-0.3.3 h5py-2.10.0 tensorboard-2.2.2 tensorflow-2.2.0 tensorflow-estimator-2.2.0\n"
          ]
        }
      ],
      "source": [
        "!pip install tensorflow==2.2.0"
      ]
    },
    {
      "cell_type": "code",
      "source": [
        "import tensorflow as tf \n",
        "print(tf.__version__)"
      ],
      "metadata": {
        "colab": {
          "base_uri": "https://localhost:8080/"
        },
        "id": "g8B0qBmsSj37",
        "outputId": "fe5b2a7d-ffa4-4690-f19f-1f83cda05428"
      },
      "execution_count": 3,
      "outputs": [
        {
          "output_type": "stream",
          "name": "stdout",
          "text": [
            "2.2.0\n"
          ]
        }
      ]
    },
    {
      "cell_type": "code",
      "source": [
        "from tensorflow.keras import Model\n",
        "from tensorflow.keras.layers import Conv2D,MaxPool2D,GlobalAveragePooling2D,Dense,Concatenate,Flatten,Dropout,AveragePooling2D\n",
        "from tensorflow.keras.activations import relu,softmax"
      ],
      "metadata": {
        "id": "-Wa_sBhUSnBo"
      },
      "execution_count": 11,
      "outputs": []
    },
    {
      "cell_type": "code",
      "source": [
        "class InceptionModule(Model):\n",
        "  def __init__(self,filters_1by1,filters_1by1_3,filters_1by1_5,filters_1by1_p,filters_3by3,filters_5by5):\n",
        "    super().__init__()\n",
        "    self.conv2d_1by1 = Conv2D(filters=filters_1by1,kernel_size=1,activation=relu)\n",
        "    self.conv2d_1by1_3 = Conv2D(filters=filters_1by1_3,kernel_size=1,activation=relu)\n",
        "    self.conv2d_1by1_5 = Conv2D(filters=filters_1by1_5,kernel_size=1,activation=relu)\n",
        "    self.conv2d_1by1_p = Conv2D(filters=filters_1by1_p,kernel_size=1,activation=relu)\n",
        "    self.conv2d_3by3 = Conv2D(filters=filters_3by3,kernel_size=3,activation=relu,padding='same')\n",
        "    self.conv2d_5by5 = Conv2D(filters=filters_5by5,kernel_size=5,activation=relu,padding='same')\n",
        "    self.max_pool = MaxPool2D(pool_size=(3, 3), strides=1, padding='same')\n",
        "    self.concat = Concatenate(axis = -1)\n",
        "\n",
        "  def call(self,inputs):\n",
        "    x_1by1 = self.conv2d_1by1(inputs)\n",
        "\n",
        "    x_3by3 = self.conv2d_1by1_3(inputs)\n",
        "    x_3by3 = self.conv2d_3by3(x_3by3)\n",
        "\n",
        "    x_5by5 = self.conv2d_1by1_5(inputs)\n",
        "    x_5by5 = self.conv2d_5by5(x_5by5)\n",
        "\n",
        "    x_p = self.max_pool(inputs)\n",
        "    x_p = self.conv2d_1by1_p(x_p)\n",
        "\n",
        "    x = self.concat([x_1by1,x_3by3,x_5by5,x_p])\n",
        "\n",
        "    return x\n"
      ],
      "metadata": {
        "id": "Eq-3Jt8VU0tn"
      },
      "execution_count": 7,
      "outputs": []
    },
    {
      "cell_type": "code",
      "source": [
        "class InceptionNetwork(Model):\n",
        "  def __init__(self,input_shape,noof_classes):\n",
        "    super().__init__()\n",
        "    self.conv1 = Conv2D(input_shape=input_shape,filters=64, kernel_size=7, strides=2, padding='valid')\n",
        "    self.conv2 = Conv2D(filters=192, kernel_size=3, padding='same')\n",
        "    self.maxpool = MaxPool2D(pool_size=(3, 3), strides=2, padding='valid')\n",
        "    self.inception_3a = InceptionModule(filters_1by1=64,filters_1by1_3=96,filters_1by1_5=16,filters_1by1_p=32,filters_3by3=128,filters_5by5=32)\n",
        "    self.inception_3b = InceptionModule(filters_1by1=128,filters_1by1_3=128,filters_1by1_5=32,filters_1by1_p=64,filters_3by3=192,filters_5by5=96)\n",
        "    self.inception_4a = InceptionModule(filters_1by1=192,filters_1by1_3=96,filters_3by3=208,filters_1by1_5=16,filters_5by5=48,filters_1by1_p=64)\n",
        "    self.inception_4b = InceptionModule(filters_1by1=160,filters_1by1_3=112,filters_3by3=224,filters_1by1_5=24,filters_5by5=64,filters_1by1_p=64)\n",
        "    self.inception_4c = InceptionModule(filters_1by1=128,filters_1by1_3=128,filters_3by3=256,filters_1by1_5=24,filters_5by5=64,filters_1by1_p=64)\n",
        "    self.inception_4d = InceptionModule(filters_1by1=112,filters_1by1_3=144,filters_3by3=288,filters_1by1_5=32,filters_5by5=64,filters_1by1_p=64)\n",
        "    self.inception_4e = InceptionModule(filters_1by1=256,filters_1by1_3=160,filters_3by3=320,filters_1by1_5=32,filters_5by5=128,filters_1by1_p=128)\n",
        "    self.inception_5a = InceptionModule(filters_1by1=256,filters_1by1_3=160,filters_3by3=320,filters_1by1_5=32,filters_5by5=128,filters_1by1_p=128)\n",
        "    self.inception_5b = InceptionModule(filters_1by1=384,filters_1by1_3=192,filters_3by3=384,filters_1by1_5=48,filters_5by5=128,filters_1by1_p=128)\n",
        "    self.globalavgpool = GlobalAveragePooling2D()\n",
        "    self.flatten = Flatten()\n",
        "    self.dropout = Dropout(rate=0.4)\n",
        "    self.classifier = Dense(units=noof_classes,activation=softmax)\n",
        "    self.avgpool_o1 =  AveragePooling2D(pool_size=(5, 5), strides=3, padding='valid')\n",
        "    self.conv_1by1_o1 = Conv2D(filters=128,kernel_size=1,activation=relu)\n",
        "    self.dense1_o1 = Dense(units=noof_classes,activation=relu)\n",
        "    self.dense2_o1 = Dense(units=noof_classes,activation=softmax)\n",
        "    self.dropout_o = Dropout(rate=0.7)\n",
        "    self.avgpool_o2 =  AveragePooling2D(pool_size=(5, 5), strides=3, padding='valid')\n",
        "    self.conv_1by1_o2 = Conv2D(filters=128,kernel_size=1,activation=relu)\n",
        "    self.dense1_o2 = Dense(units=noof_classes,activation=relu)\n",
        "    self.dense2_o2 = Dense(units=noof_classes,activation=softmax)\n",
        "    \n",
        "  def call(self,inputs):\n",
        "    x = self.conv1(inputs)\n",
        "    x = self.maxpool(x)\n",
        "    x = self.conv2(x)\n",
        "    x = self.maxpool(x)\n",
        "    x = self.inception_3a(x)\n",
        "    x = self.inception_3b(x)\n",
        "    x = self.maxpool(x)\n",
        "\n",
        "    x_4a = self.inception_4a(x)\n",
        "\n",
        "    x = self.inception_4b(x_4a)\n",
        "    x = self.inception_4c(x)\n",
        "\n",
        "    x_4d = self.inception_4d(x)\n",
        "\n",
        "    x = self.inception_4e(x_4d)\n",
        "    x = self.maxpool(x)\n",
        "    x = self.inception_5a(x)\n",
        "    x = self.inception_5b(x)\n",
        "    x = self.globalavgpool(x)\n",
        "    x = self.flatten(x)\n",
        "    x = self.dropout(x)\n",
        "\n",
        "    output = self.classifier(x)\n",
        "\n",
        "    o1 = self.avgpool_o1(x_4a)\n",
        "    o1 = self.conv_1by1_o1(o1)\n",
        "    o1 = self.flatten(o1)\n",
        "    o1 = self.dense1_o1(o1)\n",
        "    o1 = self.dropout_o(o1)\n",
        "    output1 = self.dense2_o1(o1)\n",
        "\n",
        "    o2 = self.avgpool_o2(x_4d)\n",
        "    o2 = self.conv_1by1_o2(o2)\n",
        "    o2 = self.flatten(o2)\n",
        "    o2 = self.dense1_o2(o2)\n",
        "    o2 = self.dropout_o(o2)\n",
        "    output2 = self.dense2_o2(o2)\n",
        "\n",
        "    return [output,output1,output1]\n"
      ],
      "metadata": {
        "id": "8hQ4PBS3bYqw"
      },
      "execution_count": 27,
      "outputs": []
    },
    {
      "cell_type": "code",
      "source": [
        "InceptionModel = InceptionNetwork(input_shape=(None,224,224,3),noof_classes=1000)\n"
      ],
      "metadata": {
        "id": "RrmxH5JuomGb"
      },
      "execution_count": 28,
      "outputs": []
    },
    {
      "cell_type": "code",
      "source": [
        "InceptionModel.compile(optimizer=tf.keras.optimizers.Adam(learning_rate=1e-3),\n",
        "                       loss=[tf.keras.losses.SparseCategoricalCrossentropy(),tf.keras.losses.SparseCategoricalCrossentropy(),tf.keras.losses.SparseCategoricalCrossentropy()],\n",
        "                       metrics=[tf.keras.metrics.SparseCategoricalAccuracy(),tf.keras.metrics.SparseCategoricalAccuracy(),tf.keras.metrics.SparseCategoricalAccuracy()],\n",
        "                       loss_weights=[1,0.3,0.3])\n"
      ],
      "metadata": {
        "id": "-8uoCrV6pQtL"
      },
      "execution_count": 29,
      "outputs": []
    },
    {
      "cell_type": "code",
      "source": [
        "InceptionModel.build(input_shape=(None,224,224,3)) \n",
        "InceptionModel.summary()"
      ],
      "metadata": {
        "colab": {
          "base_uri": "https://localhost:8080/"
        },
        "id": "f7mfDbLMqyU5",
        "outputId": "76d6c568-6de8-445d-c6e0-1ed7231bdc73"
      },
      "execution_count": 30,
      "outputs": [
        {
          "output_type": "stream",
          "name": "stdout",
          "text": [
            "Model: \"inception_network_3\"\n",
            "_________________________________________________________________\n",
            "Layer (type)                 Output Shape              Param #   \n",
            "=================================================================\n",
            "conv2d_174 (Conv2D)          multiple                  9472      \n",
            "_________________________________________________________________\n",
            "conv2d_175 (Conv2D)          multiple                  110784    \n",
            "_________________________________________________________________\n",
            "max_pooling2d_30 (MaxPooling multiple                  0         \n",
            "_________________________________________________________________\n",
            "inception_module_27 (Incepti multiple                  163696    \n",
            "_________________________________________________________________\n",
            "inception_module_28 (Incepti multiple                  388736    \n",
            "_________________________________________________________________\n",
            "inception_module_29 (Incepti multiple                  376176    \n",
            "_________________________________________________________________\n",
            "inception_module_30 (Incepti multiple                  449160    \n",
            "_________________________________________________________________\n",
            "inception_module_31 (Incepti multiple                  510104    \n",
            "_________________________________________________________________\n",
            "inception_module_32 (Incepti multiple                  605376    \n",
            "_________________________________________________________________\n",
            "inception_module_33 (Incepti multiple                  868352    \n",
            "_________________________________________________________________\n",
            "inception_module_34 (Incepti multiple                  1043456   \n",
            "_________________________________________________________________\n",
            "inception_module_35 (Incepti multiple                  1444080   \n",
            "_________________________________________________________________\n",
            "global_average_pooling2d_3 ( multiple                  0         \n",
            "_________________________________________________________________\n",
            "flatten_3 (Flatten)          multiple                  0         \n",
            "_________________________________________________________________\n",
            "dropout_6 (Dropout)          multiple                  0         \n",
            "_________________________________________________________________\n",
            "dense_15 (Dense)             multiple                  1025000   \n",
            "_________________________________________________________________\n",
            "average_pooling2d_6 (Average multiple                  0         \n",
            "_________________________________________________________________\n",
            "conv2d_230 (Conv2D)          multiple                  65664     \n",
            "_________________________________________________________________\n",
            "dense_16 (Dense)             multiple                  1153000   \n",
            "_________________________________________________________________\n",
            "dense_17 (Dense)             multiple                  1001000   \n",
            "_________________________________________________________________\n",
            "dropout_7 (Dropout)          multiple                  0         \n",
            "_________________________________________________________________\n",
            "average_pooling2d_7 (Average multiple                  0         \n",
            "_________________________________________________________________\n",
            "conv2d_231 (Conv2D)          multiple                  67712     \n",
            "_________________________________________________________________\n",
            "dense_18 (Dense)             multiple                  1153000   \n",
            "_________________________________________________________________\n",
            "dense_19 (Dense)             multiple                  1001000   \n",
            "=================================================================\n",
            "Total params: 11,435,768\n",
            "Trainable params: 11,435,768\n",
            "Non-trainable params: 0\n",
            "_________________________________________________________________\n"
          ]
        }
      ]
    }
  ]
}